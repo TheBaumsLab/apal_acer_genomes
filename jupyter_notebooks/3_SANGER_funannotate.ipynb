{
 "cells": [
  {
   "cell_type": "code",
   "execution_count": 3,
   "id": "ee142553",
   "metadata": {},
   "outputs": [],
   "source": [
    "import pandas as pd\n",
    "import numpy as np\n",
    "import subprocess"
   ]
  },
  {
   "cell_type": "code",
   "execution_count": 4,
   "id": "47dedd2d",
   "metadata": {},
   "outputs": [],
   "source": [
    "sra = pd.read_csv(\"../SraRunTable.txt\", sep = \",\")"
   ]
  },
  {
   "cell_type": "markdown",
   "id": "968c1004",
   "metadata": {},
   "source": [
    "Here, we use the single-end data only as it contains a variety of treatments (and it slims down the RNAseq dataset which is, otherwise, way too large to run...)"
   ]
  },
  {
   "cell_type": "code",
   "execution_count": null,
   "id": "382f9110",
   "metadata": {},
   "outputs": [],
   "source": [
    "for i in sra[\"Run\"][sra[\"LibraryLayout\"] == \"SINGLE\"]:\n",
    "    subprocess.run([\"mv /storage/home/nsl5160/scratch/sanger_reannotate/sra/\" + \n",
    "                    i + \"_1.fastq /storage/home/nsl5160/scratch/sanger_reannotate/sra/\" + \n",
    "                    i + \"_single.fastq\"], shell = True)"
   ]
  },
  {
   "cell_type": "code",
   "execution_count": 25,
   "id": "d6b53d9e",
   "metadata": {},
   "outputs": [],
   "source": [
    "!sed '/^>/ s/ .*//' ../repeatmasked/GCA_964030605.1_jaAcrPala1.1_genomic.fa.masked \\\n",
    "    > ../repeatmasked/GCA_964030605.1_jaAcrPala1.1_genomic_shortened_headers.fa"
   ]
  },
  {
   "cell_type": "code",
   "execution_count": 36,
   "id": "fb7bcae8",
   "metadata": {},
   "outputs": [],
   "source": [
    "!sed '/^>/ s/ .*//' ../repeatmasked/GCA_964030605.1_jaAcrPala1.1_genomic.fa.masked | sed '/^>/ s/\\..*//' \\\n",
    "    > ../repeatmasked/GCA_964030605.1_jaAcrPala1.1_genomic_shortened_headers.fa"
   ]
  },
  {
   "cell_type": "code",
   "execution_count": 14,
   "id": "0abbe50a",
   "metadata": {},
   "outputs": [
    {
     "name": "stdout",
     "output_type": "stream",
     "text": [
      "Submitted batch job 14028015\n"
     ]
    },
    {
     "data": {
      "text/plain": [
       "CompletedProcess(args=['sbatch --mem=256g --ntasks=40 ../trimgalore_single.sh /storage/home/nsl5160/scratch/sanger_reannotate/sra /storage/home/nsl5160/scratch/sanger_reannotate/trimmed ../SraRunTable.txt'], returncode=0)"
      ]
     },
     "execution_count": 14,
     "metadata": {},
     "output_type": "execute_result"
    }
   ],
   "source": [
    "task = \"trimgalore_single\"\n",
    "mem = \"256\"\n",
    "cpus = \"40\"\n",
    "inpath = \"/storage/home/nsl5160/scratch/sanger_reannotate/sra\"\n",
    "outpath = \"/storage/home/nsl5160/scratch/sanger_reannotate/trimmed\"\n",
    "runtable = \"../SraRunTable.txt\"\n",
    "subprocess.run([\"sbatch --mem=\" + mem + \"g --ntasks=\" + \n",
    "     cpus + \" ../\" + task + \".sh \" + \n",
    "     inpath + \" \" + outpath + \" \" + runtable], shell=True)"
   ]
  },
  {
   "cell_type": "code",
   "execution_count": 1,
   "id": "f6960e2d",
   "metadata": {},
   "outputs": [
    {
     "name": "stdout",
     "output_type": "stream",
     "text": [
      "#!/bin/bash\r\n",
      "#SBATCH --nodes=1\r\n",
      "#SBATCH --ntasks=40\r\n",
      "#SBATCH --mem=400GB\r\n",
      "#SBATCH --time=48:00:00\r\n",
      "#SBATCH --job-name=funan\r\n",
      "\r\n",
      "source ~/.bashrc\r\n",
      "conda activate funannotate_fixed\r\n",
      "cd /storage/group/ibb3/default/sanger_reannotation/\r\n",
      "mkdir -p ./funannotate_annotation\r\n",
      "funannotate train \\\r\n",
      "\t-i /storage/group/ibb3/default/sanger_reannotation/repeatmasked/GCA_964030605.1_jaAcrPala1.1_genomic_shortened_headers.fa \\\r\n",
      "\t-o ./funannotate_annotation \\\r\n",
      "\t--single /scratch/nsl5160/sanger_reannotate/trimmed/*_single_trimmed.fq \\\r\n",
      "\t--memory 400G \\\r\n",
      "\t--no_trimmomatic \\\r\n",
      "\t--pasa_db mysql \\\r\n",
      "\t--max_intronlen 100000 \\\r\n",
      "\t--species \"Acropora palmata\" \\\r\n",
      "\t--cpus 40\r\n"
     ]
    }
   ],
   "source": [
    "!cat ../funannotate_train.sh ; sbatch ../funannotate_train.sh"
   ]
  },
  {
   "cell_type": "code",
   "execution_count": 2,
   "id": "64e3551e",
   "metadata": {},
   "outputs": [
    {
     "name": "stdout",
     "output_type": "stream",
     "text": [
      "#!/bin/bash\r\n",
      "#SBATCH --nodes=1\r\n",
      "#SBATCH --ntasks=35\r\n",
      "#SBATCH --mem=400GB\r\n",
      "#SBATCH --time=48:00:00\r\n",
      "#SBATCH --job-name=funan\r\n",
      "\r\n",
      "source ~/.bashrc\r\n",
      "conda activate funannotate_aug34\r\n",
      "cd /storage/group/ibb3/default/sanger_reannotation/\r\n",
      "\r\n",
      "funannotate predict \\\r\n",
      "    -i /storage/group/ibb3/default/sanger_reannotation/repeatmasked/GCA_964030605.1_jaAcrPala1.1_genomic_shortened_headers.fa \\\r\n",
      "    -o ./funannotate_annotation \\\r\n",
      "    --species \"Acropora palmata\" \\\r\n",
      "    --repeats2evm \\\r\n",
      "    --repeat_filter none \\\r\n",
      "    --transcript_evidence /storage/group/ibb3/default/sanger_reannotation/Apal_transcriptome_Polato.fa \\\r\n",
      "    /storage/group/ibb3/default/sanger_reannotation/Osborne2023_Apalmata_transcriptome.fasta \\\r\n",
      "    /storage/group/ibb3/default/AP_AC_genome_seqs/dovetail_Apalm/HiC_improvement/Apalm_assembly_v3.1_200911.mrna.fasta \\\r\n",
      "    --organism other \\\r\n",
      "    --max_intronlen 100000 \\\r\n",
      "    --busco_db metazoa \\\r\n",
      "    --busco_seed_species amphimedon \\\r\n",
      "    --GENEMARK_PATH /storage/group/ibb3/default/sanger_reannotation/gmes_linux_64_4 \\\r\n",
      "    --cpus 30\r\n",
      "Submitted batch job 15557466\r\n"
     ]
    }
   ],
   "source": [
    "!cat ../funannotate_predict.sh ; sbatch ../funannotate_predict.sh"
   ]
  },
  {
   "cell_type": "code",
   "execution_count": 8,
   "id": "5a5d12ef",
   "metadata": {},
   "outputs": [
    {
     "name": "stdout",
     "output_type": "stream",
     "text": [
      "#!/bin/bash\n",
      "#SBATCH --nodes=1\n",
      "#SBATCH --ntasks=20\n",
      "#SBATCH --mem=256GB\n",
      "#SBATCH --time=48:00:00\n",
      "#SBATCH --job-name=funan\n",
      "\n",
      "source ~/.bashrc\n",
      "conda activate funannotate_fixed\n",
      "cd /storage/group/ibb3/default/sanger_reannotation/\n",
      "\n",
      "funannotate update \\\n",
      "    -i ./funannotate_annotation \\\n",
      "    --cpus 20 \\\n",
      "    --memory 250G \\\n",
      "    --pasa_db mysql \\\n",
      "    --max_intronlen 100000 \\\n",
      "    --PASAHOME /storage/group/ibb3/default/.conda/envs/funannotate/opt/pasa-2.5.2/\n",
      "Submitted batch job 15640769\n"
     ]
    }
   ],
   "source": [
    "!cat ../funannotate_update.sh ; sbatch ../funannotate_update.sh"
   ]
  },
  {
   "cell_type": "code",
   "execution_count": null,
   "id": "699aaef5",
   "metadata": {},
   "outputs": [],
   "source": [
    "%%bash\n",
    "cd ~/scratch/\n",
    "mkdir -p ./interproscan\n",
    "cd ./interproscan\n",
    "wget https://ftp.ebi.ac.uk/pub/software/unix/iprscan/5/5.68-100.0/interproscan-5.68-100.0-64-bit.tar.gz\n",
    "wget https://ftp.ebi.ac.uk/pub/software/unix/iprscan/5/5.68-100.0/interproscan-5.68-100.0-64-bit.tar.gz.md5\n",
    "md5sum -c interproscan-5.68-100.0-64-bit.tar.gz.md5\n",
    "tar -pxvzf interproscan-5.68-100.0-*-bit.tar.gz\n",
    "python3 setup.py -f interproscan.properties"
   ]
  },
  {
   "cell_type": "code",
   "execution_count": 4,
   "id": "3d92ff52",
   "metadata": {},
   "outputs": [],
   "source": [
    "%%bash\n",
    "cd /storage/home/nsl5160/scratch/interproscan/interproscan-5.68-100.0\n",
    "python3 setup.py -f interproscan.properties"
   ]
  },
  {
   "cell_type": "code",
   "execution_count": 5,
   "id": "dff3dc4f",
   "metadata": {},
   "outputs": [
    {
     "name": "stdout",
     "output_type": "stream",
     "text": [
      "#!/bin/bash\r\n",
      "#SBATCH --nodes=1\r\n",
      "#SBATCH --ntasks=48\r\n",
      "#SBATCH --mem=256GB\r\n",
      "#SBATCH --time=48:00:00\r\n",
      "#SBATCH --job-name=funan\r\n",
      "\r\n",
      "source ~/.bashrc\r\n",
      "conda activate funannotate\r\n",
      "cd /storage/group/ibb3/default/sanger_reannotation\r\n",
      "\r\n",
      "funannotate iprscan \\\r\n",
      "    -i ./funannotate_annotation \\\r\n",
      "    --method local \\\r\n",
      "    --out ./funannotate_annotation/Acropora_palmata.proteins.fa.xml \\\r\n",
      "    --iprscan_path /storage/home/nsl5160/scratch/interproscan/interproscan-5.68-100.0/interproscan.sh \\\r\n",
      "    --cpus 48\r\n",
      "Submitted batch job 16000352\r\n"
     ]
    }
   ],
   "source": [
    "!cat ../funannotate_iprscan.sh ; sbatch ../funannotate_iprscan.sh"
   ]
  },
  {
   "cell_type": "code",
   "execution_count": 32,
   "id": "cfd6d49c",
   "metadata": {},
   "outputs": [
    {
     "name": "stdout",
     "output_type": "stream",
     "text": [
      "#!/bin/bash\r\n",
      "#SBATCH --nodes=1\r\n",
      "#SBATCH --ntasks=4\r\n",
      "#SBATCH --mem=64GB\r\n",
      "#SBATCH --time=48:00:00\r\n",
      "#SBATCH --job-name=proteinfer\r\n",
      "\r\n",
      "source ~/.bashrc\r\n",
      "conda activate proteinfer\r\n",
      "cd /storage/group/ibb3/default/acer_cnat_dcyl_ssid_assembly/proteinfer\r\n",
      "python proteinfer.py \\\r\n",
      "    --i /storage/group/ibb3/default/sanger_reannotation/funannotate_annotation/update_results/Acropora_palmata.proteins.fa \\\r\n",
      "    --o /storage/group/ibb3/default/sanger_reannotation/funannotate_annotation/update_results/Acropora_palmata.proteinfer.tsv \\\r\n",
      "Submitted batch job 16004684\r\n"
     ]
    }
   ],
   "source": [
    "!cat ../proteinfer_apal.sh ; sbatch ../proteinfer_apal.sh"
   ]
  },
  {
   "cell_type": "code",
   "execution_count": 57,
   "id": "5f627116",
   "metadata": {},
   "outputs": [
    {
     "name": "stdout",
     "output_type": "stream",
     "text": [
      "#!/bin/bash\r\n",
      "#SBATCH --nodes=1\r\n",
      "#SBATCH --ntasks=40\r\n",
      "#SBATCH --mem=256GB\r\n",
      "#SBATCH --time=12:00:00\r\n",
      "#SBATCH --job-name=funan\r\n",
      "\r\n",
      "source ~/.bashrc\r\n",
      "conda activate funannotate\r\n",
      "cd /storage/group/ibb3/default/sanger_reannotation\r\n",
      "\r\n",
      "export EGGNOG_DATA_DIR=/storage/group/ibb3/default/acer_cnat_dcyl_ssid_assembly/eggnog-map/data\r\n",
      "\r\n",
      "funannotate annotate \\\r\n",
      "    -i ./funannotate_annotation \\\r\n",
      "    --iprscan ./funannotate_annotation/Acropora_palmata.proteins.fa.xml \\\r\n",
      "    --cpus 40 \\\r\n",
      "    --busco_db metazoa\r\n",
      "Submitted batch job 16025910\r\n"
     ]
    }
   ],
   "source": [
    "!cat ../funannotate_annotate.sh ; sbatch ../funannotate_annotate.sh"
   ]
  },
  {
   "cell_type": "code",
   "execution_count": 75,
   "id": "607c0517",
   "metadata": {},
   "outputs": [],
   "source": [
    "import pandas as pd\n",
    "import numpy as np\n",
    "import subprocess"
   ]
  },
  {
   "cell_type": "code",
   "execution_count": 80,
   "id": "1bfb8489",
   "metadata": {},
   "outputs": [],
   "source": [
    "proteinfer = pd.read_csv(\"../funannotate_annotation/update_results/Acropora_palmata.proteinfer.tsv\", sep = \"\\t\")\n",
    "proteinfer.columns = [\"TranscriptID\", \"predicted_label\", \"confidence\", \"description\"]\n",
    "annotations = pd.read_csv(\"../funannotate_annotation/annotate_results/Acropora_palmata.annotations.txt\", sep = \"\\t\")\n",
    "annotations_adjusted = annotations.set_index(\"TranscriptID\").copy()\n",
    "goterms = proteinfer[proteinfer[\"predicted_label\"].str.contains(\"^GO:\")].reset_index(drop=True)\n",
    "goterms[\"annotation_format\"] = \"GO_component: \" + goterms[\"predicted_label\"] + \" - \" + goterms[\"description\"] + \" [ProteInfer]\"\n",
    "goterms_dict = goterms.groupby(\"TranscriptID\")[\"annotation_format\"].apply(list).apply(\";\".join).to_dict()\n",
    "goterms = pd.DataFrame(goterms_dict.items())\n",
    "goterms.columns = [\"TranscriptID\", \"GO Terms\"]\n",
    "goterms = goterms.set_index(\"TranscriptID\")\n",
    "pfam = proteinfer[proteinfer[\"predicted_label\"].str.contains(\"^Pfam:PF\")].reset_index(drop=True)\n",
    "pfam[\"annotation_format\"] = pfam[\"predicted_label\"].str.split(\":\", expand = True)[1]\n",
    "pfam_dict = pfam.groupby(\"TranscriptID\")[\"annotation_format\"].apply(list).apply(\";\".join).to_dict()\n",
    "pfam = pd.DataFrame(pfam_dict.items())\n",
    "pfam.columns = [\"TranscriptID\", \"PFAM\"]\n",
    "pfam = pfam.set_index(\"TranscriptID\")\n",
    "annotations_adjusted = annotations_adjusted.fillna(goterms).fillna(pfam)\n",
    "annotations_adjusted = annotations_adjusted.reset_index(drop=False)\n",
    "annotations_adjusted = annotations_adjusted[['GeneID', 'TranscriptID', 'Feature', 'Contig', 'Start', 'Stop',\n",
    "       'Strand', 'Name', 'Product', 'Alias/Synonyms', 'EC_number', 'BUSCO',\n",
    "       'PFAM', 'InterPro', 'EggNog', 'COG', 'GO Terms', 'Secreted', 'Membrane',\n",
    "       'Protease', 'CAZyme', 'Notes', 'gDNA', 'mRNA', 'CDS-transcript',\n",
    "       'Translation']]\n",
    "annotations_adjusted.to_csv(\"../funannotate_annotation/annotate_results/Acropora_palmata.annotations_proteinfer.txt\", sep = \"\\t\", index = False)"
   ]
  }
 ],
 "metadata": {
  "kernelspec": {
   "display_name": "Masters Env",
   "language": "python",
   "name": "masters"
  },
  "language_info": {
   "codemirror_mode": {
    "name": "ipython",
    "version": 3
   },
   "file_extension": ".py",
   "mimetype": "text/x-python",
   "name": "python",
   "nbconvert_exporter": "python",
   "pygments_lexer": "ipython3",
   "version": "3.10.8"
  }
 },
 "nbformat": 4,
 "nbformat_minor": 5
}
