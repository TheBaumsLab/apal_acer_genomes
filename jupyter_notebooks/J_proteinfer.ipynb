{
 "cells": [
  {
   "cell_type": "code",
   "execution_count": 1,
   "id": "fba11cae",
   "metadata": {},
   "outputs": [],
   "source": [
    "import pandas as pd\n",
    "import numpy as np\n",
    "import subprocess"
   ]
  },
  {
   "cell_type": "code",
   "execution_count": 22,
   "id": "d0121e77",
   "metadata": {},
   "outputs": [
    {
     "name": "stdout",
     "output_type": "stream",
     "text": [
      "#!/bin/bash\r\n",
      "#SBATCH --nodes=1\r\n",
      "#SBATCH --ntasks=4\r\n",
      "#SBATCH --mem=64GB\r\n",
      "#SBATCH --time=48:00:00\r\n",
      "#SBATCH --job-name=proteinfer\r\n",
      "\r\n",
      "source ~/.bashrc\r\n",
      "conda activate proteinfer\r\n",
      "cd /storage/group/ibb3/default/acer_cnat_dcyl_ssid_assembly/proteinfer\r\n",
      "python proteinfer.py \\\r\n",
      "    --i ../funannotate_annotation/acer_lepwrap_annotation/annotate_results/Acropora_cervicornis.proteins.fa \\\r\n",
      "    --o ../funannotate_annotation/acer_lepwrap_annotation/annotate_results/Acropora_cervicornis.proteinfer.tsv\r\n",
      "Submitted batch job 14350444\r\n"
     ]
    }
   ],
   "source": [
    "!cat ../proteinfer_acer.sh ; sbatch ../proteinfer_acer.sh"
   ]
  },
  {
   "cell_type": "code",
   "execution_count": 100,
   "id": "4ec63178",
   "metadata": {},
   "outputs": [
    {
     "name": "stdout",
     "output_type": "stream",
     "text": [
      "#!/bin/bash\n",
      "#SBATCH --nodes=1\n",
      "#SBATCH --ntasks=4\n",
      "#SBATCH --mem=64GB\n",
      "#SBATCH --time=48:00:00\n",
      "#SBATCH --job-name=proteinfer\n",
      "\n",
      "source ~/.bashrc\n",
      "conda activate proteinfer\n",
      "cd /storage/group/ibb3/default/acer_cnat_dcyl_ssid_assembly/proteinfer\n",
      "python proteinfer.py \\\n",
      "    --i ../../AP_AC_genome_seqs/dovetail_Apalm/HiC_improvement/v3.1_noasterisk.protein.fasta \\\n",
      "    --o ../../AP_AC_genome_seqs/dovetail_Apalm/HiC_improvement/Apalm_assembly_v3.1_200911.proteinfer.tsv\n",
      "Submitted batch job 14517960\n"
     ]
    }
   ],
   "source": [
    "!cat ../proteinfer_apal.sh ; sbatch ../proteinfer_apal.sh"
   ]
  },
  {
   "cell_type": "code",
   "execution_count": 79,
   "id": "c102c4e2",
   "metadata": {},
   "outputs": [],
   "source": [
    "for spp in [\"../funannotate_annotation/acer_lepwrap_annotation/annotate_results/Acropora_cervicornis\"]:\n",
    "    proteinfer = pd.read_csv(spp + \".proteinfer.tsv\", sep = \"\\t\")\n",
    "    proteinfer.columns = [\"TranscriptID\", \"predicted_label\", \"confidence\", \"description\"]\n",
    "    annotations = pd.read_csv(spp + \".annotations.txt\", sep = \"\\t\")\n",
    "    annotations_adjusted = annotations.set_index(\"TranscriptID\").copy()\n",
    "    goterms = proteinfer[proteinfer[\"predicted_label\"].str.contains(\"^GO:\")].reset_index(drop=True)\n",
    "    goterms[\"annotation_format\"] = \"GO_component: \" + goterms[\"predicted_label\"] + \" - \" + goterms[\"description\"] + \" [ProteInfer]\"\n",
    "    goterms_dict = goterms.groupby(\"TranscriptID\")[\"annotation_format\"].apply(list).apply(\";\".join).to_dict()\n",
    "    goterms = pd.DataFrame(goterms_dict.items())\n",
    "    goterms.columns = [\"TranscriptID\", \"GO Terms\"]\n",
    "    goterms = goterms.set_index(\"TranscriptID\")\n",
    "    pfam = proteinfer[proteinfer[\"predicted_label\"].str.contains(\"^Pfam:PF\")].reset_index(drop=True)\n",
    "    pfam[\"annotation_format\"] = pfam[\"predicted_label\"].str.split(\":\", expand = True)[1]\n",
    "    pfam_dict = pfam.groupby(\"TranscriptID\")[\"annotation_format\"].apply(list).apply(\";\".join).to_dict()\n",
    "    pfam = pd.DataFrame(pfam_dict.items())\n",
    "    pfam.columns = [\"TranscriptID\", \"PFAM\"]\n",
    "    pfam = pfam.set_index(\"TranscriptID\")\n",
    "    annotations_adjusted = annotations_adjusted.fillna(goterms).fillna(pfam)\n",
    "    annotations_adjusted = annotations_adjusted.reset_index(drop=False)\n",
    "    annotations_adjusted = annotations_adjusted[['GeneID', 'TranscriptID', 'Feature', 'Contig', 'Start', 'Stop',\n",
    "           'Strand', 'Name', 'Product', 'Alias/Synonyms', 'EC_number', 'BUSCO',\n",
    "           'PFAM', 'InterPro', 'EggNog', 'COG', 'GO Terms', 'Secreted', 'Membrane',\n",
    "           'Protease', 'CAZyme', 'Notes', 'gDNA', 'mRNA', 'CDS-transcript',\n",
    "           'Translation']]\n",
    "    annotations_adjusted.to_csv(spp + \".annotations_proteinfer.txt\", sep = \"\\t\", index = False)"
   ]
  },
  {
   "cell_type": "code",
   "execution_count": 23,
   "id": "47c3fbf7",
   "metadata": {},
   "outputs": [
    {
     "name": "stderr",
     "output_type": "stream",
     "text": [
      "/tmp/ipykernel_2179438/3457785684.py:3: DtypeWarning: Columns (0,2) have mixed types. Specify dtype option on import or set low_memory=False.\n",
      "  annotations = pd.read_csv(\"../../AP_AC_genome_seqs/dovetail_Apalm/HiC_improvement/APdov_v3.1_GeneAnnotation_combined.txt\", sep = \"\\t\")\n"
     ]
    }
   ],
   "source": [
    "proteinfer = pd.read_csv(\"../../AP_AC_genome_seqs/dovetail_Apalm/HiC_improvement/Apalm_assembly_v3.1_200911.proteinfer.tsv\", sep = \"\\t\")\n",
    "proteinfer.columns = [\"Gene ID v3\", \"predicted_label\", \"confidence\", \"description\"]\n",
    "annotations = pd.read_csv(\"../../AP_AC_genome_seqs/dovetail_Apalm/HiC_improvement/APdov_v3.1_GeneAnnotation_combined.txt\", sep = \"\\t\")\n",
    "goterms = proteinfer[proteinfer[\"predicted_label\"].str.contains(\"^GO:\")].reset_index(drop=True)\n",
    "goterms[\"annotation_format\"] = \"GO_component: \" + goterms[\"predicted_label\"] + \" - \" + goterms[\"description\"] + \" [ProteInfer]\"\n",
    "goterms_dict = goterms.groupby(\"Gene ID v3\")[\"annotation_format\"].apply(list).apply(\";\".join).to_dict()\n",
    "goterms = pd.DataFrame(goterms_dict.items())\n",
    "goterms.columns = [\"Gene ID v3\", \"GO Terms\"]\n",
    "pfam = proteinfer[proteinfer[\"predicted_label\"].str.contains(\"^Pfam:PF\")].reset_index(drop=True)\n",
    "pfam[\"annotation_format\"] = pfam[\"predicted_label\"].str.split(\":\", expand = True)[1]\n",
    "pfam_dict = pfam.groupby(\"Gene ID v3\")[\"annotation_format\"].apply(list).apply(\";\".join).to_dict()\n",
    "pfam = pd.DataFrame(pfam_dict.items())\n",
    "pfam.columns = [\"Gene ID v3\", \"PFAM\"]\n",
    "annotations_adjusted = annotations.merge(goterms, how = \"left\", on = \"Gene ID v3\")\n",
    "annotations_adjusted = annotations_adjusted.merge(pfam, how = \"left\", on = \"Gene ID v3\")\n",
    "annotations_adjusted.to_csv(\"../../apal_acer_genomes/resources/Apalmata.annotations.proteinfer.txt\", sep = \"\\t\", index = False)"
   ]
  }
 ],
 "metadata": {
  "kernelspec": {
   "display_name": "Masters Env",
   "language": "python",
   "name": "masters"
  },
  "language_info": {
   "codemirror_mode": {
    "name": "ipython",
    "version": 3
   },
   "file_extension": ".py",
   "mimetype": "text/x-python",
   "name": "python",
   "nbconvert_exporter": "python",
   "pygments_lexer": "ipython3",
   "version": "3.10.8"
  }
 },
 "nbformat": 4,
 "nbformat_minor": 5
}
