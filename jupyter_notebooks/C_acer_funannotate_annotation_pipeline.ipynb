{
 "cells": [
  {
   "cell_type": "markdown",
   "id": "eb72af08",
   "metadata": {},
   "source": [
    "For Acer, we have a huge amount of data to choose from so we'll pick and choose the best datasets from SRA. These four BioProjects have the most data per sample and are RNAseq (not TagSeq, as far as I can tell) so they will be useful for annotation:"
   ]
  },
  {
   "cell_type": "code",
   "execution_count": 8,
   "id": "e1bb9a3b",
   "metadata": {},
   "outputs": [],
   "source": [
    "import pandas as pd\n",
    "import numpy as np"
   ]
  },
  {
   "cell_type": "code",
   "execution_count": 4,
   "id": "43430210",
   "metadata": {},
   "outputs": [
    {
     "name": "stdout",
     "output_type": "stream",
     "text": [
      "\r\n",
      "BioProject\r\n",
      "PRJNA222758\r\n",
      "PRJNA423227\r\n",
      "PRJNA529713\r\n",
      "PRJNA911752\r\n"
     ]
    }
   ],
   "source": [
    "!cat /storage/group/ibb3/default/acer_cnat_dcyl_ssid_assembly/raw/RNAseq/acer/AcerSraRunTable.txt \\\n",
    "    | cut -d\",\" -f5 | sort | uniq"
   ]
  },
  {
   "cell_type": "code",
   "execution_count": 14,
   "id": "db88cbcf",
   "metadata": {
    "scrolled": true
   },
   "outputs": [
    {
     "name": "stdout",
     "output_type": "stream",
     "text": [
      "Submitted batch job 6865877\n",
      "Submitted batch job 6865878\n",
      "Submitted batch job 6865879\n",
      "Submitted batch job 6865880\n",
      "Submitted batch job 6865881\n",
      "Submitted batch job 6865882\n",
      "Submitted batch job 6865883\n",
      "Submitted batch job 6865884\n",
      "Submitted batch job 6865885\n",
      "Submitted batch job 6865886\n",
      "Submitted batch job 6865887\n",
      "Submitted batch job 6865888\n",
      "Submitted batch job 6865889\n",
      "Submitted batch job 6865890\n",
      "Submitted batch job 6865891\n",
      "Submitted batch job 6865892\n",
      "Submitted batch job 6865893\n",
      "Submitted batch job 6865894\n",
      "Submitted batch job 6865895\n",
      "Submitted batch job 6865896\n",
      "Submitted batch job 6865897\n",
      "Submitted batch job 6865898\n",
      "Submitted batch job 6865899\n",
      "Submitted batch job 6865900\n",
      "Submitted batch job 6865901\n",
      "Submitted batch job 6865902\n",
      "Submitted batch job 6865903\n",
      "Submitted batch job 6865904\n",
      "Submitted batch job 6865905\n",
      "Submitted batch job 6865906\n",
      "Submitted batch job 6865907\n",
      "Submitted batch job 6865908\n",
      "Submitted batch job 6865909\n",
      "Submitted batch job 6865910\n",
      "Submitted batch job 6865911\n",
      "Submitted batch job 6865912\n",
      "Submitted batch job 6865913\n",
      "Submitted batch job 6865914\n",
      "Submitted batch job 6865915\n",
      "Submitted batch job 6865916\n",
      "Submitted batch job 6865917\n",
      "Submitted batch job 6865918\n",
      "Submitted batch job 6865919\n",
      "Submitted batch job 6865920\n",
      "Submitted batch job 6865921\n",
      "Submitted batch job 6865922\n",
      "Submitted batch job 6865923\n",
      "Submitted batch job 6865924\n",
      "Submitted batch job 6865925\n",
      "Submitted batch job 6865926\n",
      "Submitted batch job 6865927\n",
      "Submitted batch job 6865928\n",
      "Submitted batch job 6865929\n",
      "Submitted batch job 6865930\n",
      "Submitted batch job 6865931\n",
      "Submitted batch job 6865932\n",
      "Submitted batch job 6865933\n",
      "Submitted batch job 6865934\n",
      "Submitted batch job 6865935\n",
      "Submitted batch job 6865936\n",
      "Submitted batch job 6865937\n",
      "Submitted batch job 6865938\n",
      "Submitted batch job 6865939\n",
      "Submitted batch job 6865940\n",
      "Submitted batch job 6865941\n",
      "Submitted batch job 6865942\n",
      "Submitted batch job 6865943\n",
      "Submitted batch job 6865944\n",
      "Submitted batch job 6865945\n",
      "Submitted batch job 6865946\n",
      "Submitted batch job 6865947\n",
      "Submitted batch job 6865948\n",
      "Submitted batch job 6865949\n",
      "Submitted batch job 6865950\n",
      "Submitted batch job 6865951\n",
      "Submitted batch job 6865952\n",
      "Submitted batch job 6865953\n",
      "Submitted batch job 6865954\n",
      "Submitted batch job 6865955\n",
      "Submitted batch job 6865956\n",
      "Submitted batch job 6865957\n",
      "Submitted batch job 6865958\n",
      "Submitted batch job 6865959\n",
      "Submitted batch job 6865960\n",
      "Submitted batch job 6865961\n",
      "Submitted batch job 6865962\n",
      "Submitted batch job 6865963\n",
      "Submitted batch job 6865964\n",
      "Submitted batch job 6865965\n",
      "Submitted batch job 6865966\n",
      "Submitted batch job 6865967\n",
      "Submitted batch job 6865968\n",
      "Submitted batch job 6865969\n",
      "Submitted batch job 6865970\n",
      "Submitted batch job 6865971\n",
      "Submitted batch job 6865972\n",
      "Submitted batch job 6865973\n",
      "Submitted batch job 6865974\n",
      "Submitted batch job 6865975\n",
      "Submitted batch job 6865976\n",
      "Submitted batch job 6865977\n",
      "Submitted batch job 6865978\n",
      "Submitted batch job 6865979\n",
      "Submitted batch job 6865980\n",
      "Submitted batch job 6865981\n",
      "Submitted batch job 6865982\n",
      "Submitted batch job 6865983\n",
      "Submitted batch job 6865984\n",
      "Submitted batch job 6865985\n",
      "Submitted batch job 6865986\n",
      "Submitted batch job 6865987\n",
      "Submitted batch job 6865988\n",
      "Submitted batch job 6865989\n",
      "Submitted batch job 6865990\n",
      "Submitted batch job 6865991\n",
      "Submitted batch job 6865992\n",
      "Submitted batch job 6865993\n",
      "Submitted batch job 6865994\n",
      "Submitted batch job 6865995\n",
      "Submitted batch job 6865996\n",
      "Submitted batch job 6865997\n",
      "Submitted batch job 6865998\n",
      "Submitted batch job 6865999\n",
      "Submitted batch job 6866000\n",
      "Submitted batch job 6866001\n",
      "Submitted batch job 6866002\n",
      "Submitted batch job 6866003\n",
      "Submitted batch job 6866004\n",
      "Submitted batch job 6866005\n",
      "Submitted batch job 6866006\n",
      "Submitted batch job 6866007\n",
      "Submitted batch job 6866008\n",
      "Submitted batch job 6866009\n",
      "Submitted batch job 6866010\n",
      "#!/bin/bash\n",
      "#SBATCH --account=open\n",
      "#SBATCH --nodes=1\n",
      "#SBATCH --ntasks=8\n",
      "#SBATCH --mem=64GB\n",
      "#SBATCH --time=24:00:00\n",
      "#SBATCH --job-name=sratools\n",
      "\n",
      "source ~/.bashrc\n",
      "conda activate masters\n",
      "mkdir -p ~/scratch/acer\n",
      "cd ~/scratch/acer/\n",
      "mkdir -p ./sra_downloads\n",
      "cd ./sra_downloads\n",
      "\n",
      "fasterq-dump SRR1015358 --threads 8 --mem 6000MB --split-files \\\n",
      "    --outdir ~/scratch/acer/sra_downloads\n"
     ]
    }
   ],
   "source": [
    "%%bash\n",
    "cd /storage/group/ibb3/default/acer_cnat_dcyl_ssid_assembly\n",
    "for i in $( cut -d\",\" -f1 /storage/group/ibb3/default/acer_cnat_dcyl_ssid_assembly/raw/RNAseq/acer/AcerSraRunTable.txt | tail -n+2 ); do\n",
    "    cat /storage/group/ibb3/default/acer_cnat_dcyl_ssid_assembly/fasterq_dump.sh | sed \"s/tmpspot/${i}/g\" \\\n",
    "        > ./tmp.sh\n",
    "    sbatch ./tmp.sh\n",
    "done\n",
    "cat ./tmp.sh"
   ]
  },
  {
   "cell_type": "code",
   "execution_count": 17,
   "id": "e0f61211",
   "metadata": {
    "scrolled": true
   },
   "outputs": [
    {
     "name": "stderr",
     "output_type": "stream",
     "text": [
      "sbatch: slurm_job_submit: No account set, using default acct: open\n"
     ]
    },
    {
     "name": "stdout",
     "output_type": "stream",
     "text": [
      "Submitted batch job 6867060\n"
     ]
    },
    {
     "name": "stderr",
     "output_type": "stream",
     "text": [
      "sbatch: slurm_job_submit: No account set, using default acct: open\n"
     ]
    },
    {
     "name": "stdout",
     "output_type": "stream",
     "text": [
      "Submitted batch job 6867061\n"
     ]
    },
    {
     "name": "stderr",
     "output_type": "stream",
     "text": [
      "sbatch: slurm_job_submit: No account set, using default acct: open\n"
     ]
    },
    {
     "name": "stdout",
     "output_type": "stream",
     "text": [
      "Submitted batch job 6867062\n"
     ]
    },
    {
     "name": "stderr",
     "output_type": "stream",
     "text": [
      "sbatch: slurm_job_submit: No account set, using default acct: open\n"
     ]
    },
    {
     "name": "stdout",
     "output_type": "stream",
     "text": [
      "Submitted batch job 6867063\n"
     ]
    },
    {
     "name": "stderr",
     "output_type": "stream",
     "text": [
      "sbatch: slurm_job_submit: No account set, using default acct: open\n"
     ]
    },
    {
     "name": "stdout",
     "output_type": "stream",
     "text": [
      "Submitted batch job 6867064\n"
     ]
    },
    {
     "name": "stderr",
     "output_type": "stream",
     "text": [
      "sbatch: slurm_job_submit: No account set, using default acct: open\n"
     ]
    },
    {
     "name": "stdout",
     "output_type": "stream",
     "text": [
      "Submitted batch job 6867065\n"
     ]
    },
    {
     "name": "stderr",
     "output_type": "stream",
     "text": [
      "sbatch: slurm_job_submit: No account set, using default acct: open\n"
     ]
    },
    {
     "name": "stdout",
     "output_type": "stream",
     "text": [
      "Submitted batch job 6867066\n"
     ]
    },
    {
     "name": "stderr",
     "output_type": "stream",
     "text": [
      "sbatch: slurm_job_submit: No account set, using default acct: open\n"
     ]
    },
    {
     "name": "stdout",
     "output_type": "stream",
     "text": [
      "Submitted batch job 6867067\n"
     ]
    },
    {
     "name": "stderr",
     "output_type": "stream",
     "text": [
      "sbatch: slurm_job_submit: No account set, using default acct: open\n"
     ]
    },
    {
     "name": "stdout",
     "output_type": "stream",
     "text": [
      "Submitted batch job 6867068\n"
     ]
    },
    {
     "name": "stderr",
     "output_type": "stream",
     "text": [
      "sbatch: slurm_job_submit: No account set, using default acct: open\n"
     ]
    },
    {
     "name": "stdout",
     "output_type": "stream",
     "text": [
      "Submitted batch job 6867069\n"
     ]
    },
    {
     "name": "stderr",
     "output_type": "stream",
     "text": [
      "sbatch: slurm_job_submit: No account set, using default acct: open\n"
     ]
    },
    {
     "name": "stdout",
     "output_type": "stream",
     "text": [
      "Submitted batch job 6867070\n"
     ]
    },
    {
     "name": "stderr",
     "output_type": "stream",
     "text": [
      "sbatch: slurm_job_submit: No account set, using default acct: open\n"
     ]
    },
    {
     "name": "stdout",
     "output_type": "stream",
     "text": [
      "Submitted batch job 6867071\n"
     ]
    },
    {
     "name": "stderr",
     "output_type": "stream",
     "text": [
      "sbatch: slurm_job_submit: No account set, using default acct: open\n"
     ]
    },
    {
     "name": "stdout",
     "output_type": "stream",
     "text": [
      "Submitted batch job 6867072\n"
     ]
    },
    {
     "name": "stderr",
     "output_type": "stream",
     "text": [
      "sbatch: slurm_job_submit: No account set, using default acct: open\n"
     ]
    },
    {
     "name": "stdout",
     "output_type": "stream",
     "text": [
      "Submitted batch job 6867073\n"
     ]
    },
    {
     "name": "stderr",
     "output_type": "stream",
     "text": [
      "sbatch: slurm_job_submit: No account set, using default acct: open\n"
     ]
    },
    {
     "name": "stdout",
     "output_type": "stream",
     "text": [
      "Submitted batch job 6867074\n"
     ]
    },
    {
     "name": "stderr",
     "output_type": "stream",
     "text": [
      "sbatch: slurm_job_submit: No account set, using default acct: open\n"
     ]
    },
    {
     "name": "stdout",
     "output_type": "stream",
     "text": [
      "Submitted batch job 6867075\n"
     ]
    },
    {
     "name": "stderr",
     "output_type": "stream",
     "text": [
      "sbatch: slurm_job_submit: No account set, using default acct: open\n"
     ]
    },
    {
     "name": "stdout",
     "output_type": "stream",
     "text": [
      "Submitted batch job 6867076\n"
     ]
    },
    {
     "name": "stderr",
     "output_type": "stream",
     "text": [
      "sbatch: slurm_job_submit: No account set, using default acct: open\n"
     ]
    },
    {
     "name": "stdout",
     "output_type": "stream",
     "text": [
      "Submitted batch job 6867077\n"
     ]
    },
    {
     "name": "stderr",
     "output_type": "stream",
     "text": [
      "sbatch: slurm_job_submit: No account set, using default acct: open\n"
     ]
    },
    {
     "name": "stdout",
     "output_type": "stream",
     "text": [
      "Submitted batch job 6867078\n"
     ]
    },
    {
     "name": "stderr",
     "output_type": "stream",
     "text": [
      "sbatch: slurm_job_submit: No account set, using default acct: open\n"
     ]
    },
    {
     "name": "stdout",
     "output_type": "stream",
     "text": [
      "Submitted batch job 6867079\n"
     ]
    },
    {
     "name": "stderr",
     "output_type": "stream",
     "text": [
      "sbatch: slurm_job_submit: No account set, using default acct: open\n"
     ]
    },
    {
     "name": "stdout",
     "output_type": "stream",
     "text": [
      "Submitted batch job 6867080\n"
     ]
    },
    {
     "name": "stderr",
     "output_type": "stream",
     "text": [
      "sbatch: slurm_job_submit: No account set, using default acct: open\n"
     ]
    },
    {
     "name": "stdout",
     "output_type": "stream",
     "text": [
      "Submitted batch job 6867081\n"
     ]
    },
    {
     "name": "stderr",
     "output_type": "stream",
     "text": [
      "sbatch: slurm_job_submit: No account set, using default acct: open\n"
     ]
    },
    {
     "name": "stdout",
     "output_type": "stream",
     "text": [
      "Submitted batch job 6867082\n"
     ]
    },
    {
     "name": "stderr",
     "output_type": "stream",
     "text": [
      "sbatch: slurm_job_submit: No account set, using default acct: open\n"
     ]
    },
    {
     "name": "stdout",
     "output_type": "stream",
     "text": [
      "Submitted batch job 6867083\n"
     ]
    },
    {
     "name": "stderr",
     "output_type": "stream",
     "text": [
      "sbatch: slurm_job_submit: No account set, using default acct: open\n"
     ]
    },
    {
     "name": "stdout",
     "output_type": "stream",
     "text": [
      "Submitted batch job 6867084\n"
     ]
    },
    {
     "name": "stderr",
     "output_type": "stream",
     "text": [
      "sbatch: slurm_job_submit: No account set, using default acct: open\n"
     ]
    },
    {
     "name": "stdout",
     "output_type": "stream",
     "text": [
      "Submitted batch job 6867085\n"
     ]
    },
    {
     "name": "stderr",
     "output_type": "stream",
     "text": [
      "sbatch: slurm_job_submit: No account set, using default acct: open\n"
     ]
    },
    {
     "name": "stdout",
     "output_type": "stream",
     "text": [
      "Submitted batch job 6867086\n"
     ]
    },
    {
     "name": "stderr",
     "output_type": "stream",
     "text": [
      "sbatch: slurm_job_submit: No account set, using default acct: open\n"
     ]
    },
    {
     "name": "stdout",
     "output_type": "stream",
     "text": [
      "Submitted batch job 6867087\n"
     ]
    },
    {
     "name": "stderr",
     "output_type": "stream",
     "text": [
      "sbatch: slurm_job_submit: No account set, using default acct: open\n"
     ]
    },
    {
     "name": "stdout",
     "output_type": "stream",
     "text": [
      "Submitted batch job 6867088\n"
     ]
    },
    {
     "name": "stderr",
     "output_type": "stream",
     "text": [
      "sbatch: slurm_job_submit: No account set, using default acct: open\n"
     ]
    },
    {
     "name": "stdout",
     "output_type": "stream",
     "text": [
      "Submitted batch job 6867089\n"
     ]
    },
    {
     "name": "stderr",
     "output_type": "stream",
     "text": [
      "sbatch: slurm_job_submit: No account set, using default acct: open\n"
     ]
    },
    {
     "name": "stdout",
     "output_type": "stream",
     "text": [
      "Submitted batch job 6867090\n"
     ]
    },
    {
     "name": "stderr",
     "output_type": "stream",
     "text": [
      "sbatch: slurm_job_submit: No account set, using default acct: open\n"
     ]
    },
    {
     "name": "stdout",
     "output_type": "stream",
     "text": [
      "Submitted batch job 6867091\n"
     ]
    },
    {
     "name": "stderr",
     "output_type": "stream",
     "text": [
      "sbatch: slurm_job_submit: No account set, using default acct: open\n"
     ]
    },
    {
     "name": "stdout",
     "output_type": "stream",
     "text": [
      "Submitted batch job 6867092\n"
     ]
    },
    {
     "name": "stderr",
     "output_type": "stream",
     "text": [
      "sbatch: slurm_job_submit: No account set, using default acct: open\n"
     ]
    },
    {
     "name": "stdout",
     "output_type": "stream",
     "text": [
      "Submitted batch job 6867093\n"
     ]
    },
    {
     "name": "stderr",
     "output_type": "stream",
     "text": [
      "sbatch: slurm_job_submit: No account set, using default acct: open\n"
     ]
    },
    {
     "name": "stdout",
     "output_type": "stream",
     "text": [
      "Submitted batch job 6867094\n"
     ]
    },
    {
     "name": "stderr",
     "output_type": "stream",
     "text": [
      "sbatch: slurm_job_submit: No account set, using default acct: open\n"
     ]
    },
    {
     "name": "stdout",
     "output_type": "stream",
     "text": [
      "Submitted batch job 6867095\n"
     ]
    },
    {
     "name": "stderr",
     "output_type": "stream",
     "text": [
      "sbatch: slurm_job_submit: No account set, using default acct: open\n"
     ]
    },
    {
     "name": "stdout",
     "output_type": "stream",
     "text": [
      "Submitted batch job 6867096\n"
     ]
    },
    {
     "name": "stderr",
     "output_type": "stream",
     "text": [
      "sbatch: slurm_job_submit: No account set, using default acct: open\n"
     ]
    },
    {
     "name": "stdout",
     "output_type": "stream",
     "text": [
      "Submitted batch job 6867097\n"
     ]
    },
    {
     "name": "stderr",
     "output_type": "stream",
     "text": [
      "sbatch: slurm_job_submit: No account set, using default acct: open\n"
     ]
    },
    {
     "name": "stdout",
     "output_type": "stream",
     "text": [
      "Submitted batch job 6867098\n"
     ]
    },
    {
     "name": "stderr",
     "output_type": "stream",
     "text": [
      "sbatch: slurm_job_submit: No account set, using default acct: open\n"
     ]
    },
    {
     "name": "stdout",
     "output_type": "stream",
     "text": [
      "Submitted batch job 6867099\n"
     ]
    },
    {
     "name": "stderr",
     "output_type": "stream",
     "text": [
      "sbatch: slurm_job_submit: No account set, using default acct: open\n"
     ]
    },
    {
     "name": "stdout",
     "output_type": "stream",
     "text": [
      "Submitted batch job 6867100\n"
     ]
    },
    {
     "name": "stderr",
     "output_type": "stream",
     "text": [
      "sbatch: slurm_job_submit: No account set, using default acct: open\n"
     ]
    },
    {
     "name": "stdout",
     "output_type": "stream",
     "text": [
      "Submitted batch job 6867101\n"
     ]
    },
    {
     "name": "stderr",
     "output_type": "stream",
     "text": [
      "sbatch: slurm_job_submit: No account set, using default acct: open\n"
     ]
    },
    {
     "name": "stdout",
     "output_type": "stream",
     "text": [
      "Submitted batch job 6867102\n"
     ]
    },
    {
     "name": "stderr",
     "output_type": "stream",
     "text": [
      "sbatch: slurm_job_submit: No account set, using default acct: open\n"
     ]
    },
    {
     "name": "stdout",
     "output_type": "stream",
     "text": [
      "Submitted batch job 6867103\n"
     ]
    },
    {
     "name": "stderr",
     "output_type": "stream",
     "text": [
      "sbatch: slurm_job_submit: No account set, using default acct: open\n"
     ]
    },
    {
     "name": "stdout",
     "output_type": "stream",
     "text": [
      "Submitted batch job 6867104\n"
     ]
    },
    {
     "name": "stderr",
     "output_type": "stream",
     "text": [
      "sbatch: slurm_job_submit: No account set, using default acct: open\n"
     ]
    },
    {
     "name": "stdout",
     "output_type": "stream",
     "text": [
      "Submitted batch job 6867105\n"
     ]
    },
    {
     "name": "stderr",
     "output_type": "stream",
     "text": [
      "sbatch: slurm_job_submit: No account set, using default acct: open\n"
     ]
    },
    {
     "name": "stdout",
     "output_type": "stream",
     "text": [
      "Submitted batch job 6867106\n"
     ]
    },
    {
     "name": "stderr",
     "output_type": "stream",
     "text": [
      "sbatch: slurm_job_submit: No account set, using default acct: open\n"
     ]
    },
    {
     "name": "stdout",
     "output_type": "stream",
     "text": [
      "Submitted batch job 6867107\n"
     ]
    },
    {
     "name": "stderr",
     "output_type": "stream",
     "text": [
      "sbatch: slurm_job_submit: No account set, using default acct: open\n"
     ]
    },
    {
     "name": "stdout",
     "output_type": "stream",
     "text": [
      "Submitted batch job 6867108\n"
     ]
    },
    {
     "name": "stderr",
     "output_type": "stream",
     "text": [
      "sbatch: slurm_job_submit: No account set, using default acct: open\n"
     ]
    },
    {
     "name": "stdout",
     "output_type": "stream",
     "text": [
      "Submitted batch job 6867109\n"
     ]
    },
    {
     "name": "stderr",
     "output_type": "stream",
     "text": [
      "sbatch: slurm_job_submit: No account set, using default acct: open\n"
     ]
    },
    {
     "name": "stdout",
     "output_type": "stream",
     "text": [
      "Submitted batch job 6867110\n"
     ]
    },
    {
     "name": "stderr",
     "output_type": "stream",
     "text": [
      "sbatch: slurm_job_submit: No account set, using default acct: open\n"
     ]
    },
    {
     "name": "stdout",
     "output_type": "stream",
     "text": [
      "Submitted batch job 6867111\n"
     ]
    },
    {
     "name": "stderr",
     "output_type": "stream",
     "text": [
      "sbatch: slurm_job_submit: No account set, using default acct: open\n"
     ]
    },
    {
     "name": "stdout",
     "output_type": "stream",
     "text": [
      "Submitted batch job 6867112\n"
     ]
    },
    {
     "name": "stderr",
     "output_type": "stream",
     "text": [
      "sbatch: slurm_job_submit: No account set, using default acct: open\n"
     ]
    },
    {
     "name": "stdout",
     "output_type": "stream",
     "text": [
      "Submitted batch job 6867113\n"
     ]
    },
    {
     "name": "stderr",
     "output_type": "stream",
     "text": [
      "sbatch: slurm_job_submit: No account set, using default acct: open\n"
     ]
    },
    {
     "name": "stdout",
     "output_type": "stream",
     "text": [
      "Submitted batch job 6867114\n"
     ]
    },
    {
     "name": "stderr",
     "output_type": "stream",
     "text": [
      "sbatch: slurm_job_submit: No account set, using default acct: open\n"
     ]
    },
    {
     "name": "stdout",
     "output_type": "stream",
     "text": [
      "Submitted batch job 6867115\n"
     ]
    },
    {
     "name": "stderr",
     "output_type": "stream",
     "text": [
      "sbatch: slurm_job_submit: No account set, using default acct: open\n"
     ]
    },
    {
     "name": "stdout",
     "output_type": "stream",
     "text": [
      "Submitted batch job 6867116\n"
     ]
    },
    {
     "name": "stderr",
     "output_type": "stream",
     "text": [
      "sbatch: slurm_job_submit: No account set, using default acct: open\n"
     ]
    },
    {
     "name": "stdout",
     "output_type": "stream",
     "text": [
      "Submitted batch job 6867117\n"
     ]
    },
    {
     "name": "stderr",
     "output_type": "stream",
     "text": [
      "sbatch: slurm_job_submit: No account set, using default acct: open\n"
     ]
    },
    {
     "name": "stdout",
     "output_type": "stream",
     "text": [
      "Submitted batch job 6867118\n"
     ]
    },
    {
     "name": "stderr",
     "output_type": "stream",
     "text": [
      "sbatch: slurm_job_submit: No account set, using default acct: open\n"
     ]
    },
    {
     "name": "stdout",
     "output_type": "stream",
     "text": [
      "Submitted batch job 6867119\n"
     ]
    },
    {
     "name": "stderr",
     "output_type": "stream",
     "text": [
      "sbatch: slurm_job_submit: No account set, using default acct: open\n"
     ]
    },
    {
     "name": "stdout",
     "output_type": "stream",
     "text": [
      "Submitted batch job 6867120\n"
     ]
    },
    {
     "name": "stderr",
     "output_type": "stream",
     "text": [
      "sbatch: slurm_job_submit: No account set, using default acct: open\n"
     ]
    },
    {
     "name": "stdout",
     "output_type": "stream",
     "text": [
      "Submitted batch job 6867121\n"
     ]
    },
    {
     "name": "stderr",
     "output_type": "stream",
     "text": [
      "sbatch: slurm_job_submit: No account set, using default acct: open\n"
     ]
    },
    {
     "name": "stdout",
     "output_type": "stream",
     "text": [
      "Submitted batch job 6867122\n"
     ]
    },
    {
     "name": "stderr",
     "output_type": "stream",
     "text": [
      "sbatch: slurm_job_submit: No account set, using default acct: open\n"
     ]
    },
    {
     "name": "stdout",
     "output_type": "stream",
     "text": [
      "Submitted batch job 6867123\n"
     ]
    },
    {
     "name": "stderr",
     "output_type": "stream",
     "text": [
      "sbatch: slurm_job_submit: No account set, using default acct: open\n"
     ]
    },
    {
     "name": "stdout",
     "output_type": "stream",
     "text": [
      "Submitted batch job 6867124\n"
     ]
    },
    {
     "name": "stderr",
     "output_type": "stream",
     "text": [
      "sbatch: slurm_job_submit: No account set, using default acct: open\n"
     ]
    },
    {
     "name": "stdout",
     "output_type": "stream",
     "text": [
      "Submitted batch job 6867125\n"
     ]
    },
    {
     "name": "stderr",
     "output_type": "stream",
     "text": [
      "sbatch: slurm_job_submit: No account set, using default acct: open\n"
     ]
    },
    {
     "name": "stdout",
     "output_type": "stream",
     "text": [
      "Submitted batch job 6867126\n"
     ]
    },
    {
     "name": "stderr",
     "output_type": "stream",
     "text": [
      "sbatch: slurm_job_submit: No account set, using default acct: open\n"
     ]
    },
    {
     "name": "stdout",
     "output_type": "stream",
     "text": [
      "Submitted batch job 6867127\n"
     ]
    },
    {
     "name": "stderr",
     "output_type": "stream",
     "text": [
      "sbatch: slurm_job_submit: No account set, using default acct: open\n"
     ]
    },
    {
     "name": "stdout",
     "output_type": "stream",
     "text": [
      "Submitted batch job 6867128\n"
     ]
    },
    {
     "name": "stderr",
     "output_type": "stream",
     "text": [
      "sbatch: slurm_job_submit: No account set, using default acct: open\n"
     ]
    },
    {
     "name": "stdout",
     "output_type": "stream",
     "text": [
      "Submitted batch job 6867129\n"
     ]
    },
    {
     "name": "stderr",
     "output_type": "stream",
     "text": [
      "sbatch: slurm_job_submit: No account set, using default acct: open\n"
     ]
    },
    {
     "name": "stdout",
     "output_type": "stream",
     "text": [
      "Submitted batch job 6867130\n"
     ]
    },
    {
     "name": "stderr",
     "output_type": "stream",
     "text": [
      "sbatch: slurm_job_submit: No account set, using default acct: open\n"
     ]
    },
    {
     "name": "stdout",
     "output_type": "stream",
     "text": [
      "Submitted batch job 6867131\n"
     ]
    },
    {
     "name": "stderr",
     "output_type": "stream",
     "text": [
      "sbatch: slurm_job_submit: No account set, using default acct: open\n"
     ]
    },
    {
     "name": "stdout",
     "output_type": "stream",
     "text": [
      "Submitted batch job 6867132\n"
     ]
    },
    {
     "name": "stderr",
     "output_type": "stream",
     "text": [
      "sbatch: slurm_job_submit: No account set, using default acct: open\n"
     ]
    },
    {
     "name": "stdout",
     "output_type": "stream",
     "text": [
      "Submitted batch job 6867134\n"
     ]
    },
    {
     "name": "stderr",
     "output_type": "stream",
     "text": [
      "sbatch: slurm_job_submit: No account set, using default acct: open\n"
     ]
    },
    {
     "name": "stdout",
     "output_type": "stream",
     "text": [
      "Submitted batch job 6867135\n"
     ]
    },
    {
     "name": "stderr",
     "output_type": "stream",
     "text": [
      "sbatch: slurm_job_submit: No account set, using default acct: open\n"
     ]
    },
    {
     "name": "stdout",
     "output_type": "stream",
     "text": [
      "Submitted batch job 6867136\n"
     ]
    },
    {
     "name": "stderr",
     "output_type": "stream",
     "text": [
      "sbatch: slurm_job_submit: No account set, using default acct: open\n"
     ]
    },
    {
     "name": "stdout",
     "output_type": "stream",
     "text": [
      "Submitted batch job 6867137\n"
     ]
    },
    {
     "name": "stderr",
     "output_type": "stream",
     "text": [
      "sbatch: slurm_job_submit: No account set, using default acct: open\n"
     ]
    },
    {
     "name": "stdout",
     "output_type": "stream",
     "text": [
      "Submitted batch job 6867138\n"
     ]
    },
    {
     "name": "stderr",
     "output_type": "stream",
     "text": [
      "sbatch: slurm_job_submit: No account set, using default acct: open\n"
     ]
    },
    {
     "name": "stdout",
     "output_type": "stream",
     "text": [
      "Submitted batch job 6867139\n"
     ]
    },
    {
     "name": "stderr",
     "output_type": "stream",
     "text": [
      "sbatch: slurm_job_submit: No account set, using default acct: open\n"
     ]
    },
    {
     "name": "stdout",
     "output_type": "stream",
     "text": [
      "Submitted batch job 6867140\n"
     ]
    },
    {
     "name": "stderr",
     "output_type": "stream",
     "text": [
      "sbatch: slurm_job_submit: No account set, using default acct: open\n"
     ]
    },
    {
     "name": "stdout",
     "output_type": "stream",
     "text": [
      "Submitted batch job 6867141\n"
     ]
    },
    {
     "name": "stderr",
     "output_type": "stream",
     "text": [
      "sbatch: slurm_job_submit: No account set, using default acct: open\n"
     ]
    },
    {
     "name": "stdout",
     "output_type": "stream",
     "text": [
      "Submitted batch job 6867142\n"
     ]
    },
    {
     "name": "stderr",
     "output_type": "stream",
     "text": [
      "sbatch: slurm_job_submit: No account set, using default acct: open\n"
     ]
    },
    {
     "name": "stdout",
     "output_type": "stream",
     "text": [
      "Submitted batch job 6867143\n"
     ]
    },
    {
     "name": "stderr",
     "output_type": "stream",
     "text": [
      "sbatch: slurm_job_submit: No account set, using default acct: open\n"
     ]
    },
    {
     "name": "stdout",
     "output_type": "stream",
     "text": [
      "Submitted batch job 6867144\n"
     ]
    },
    {
     "name": "stderr",
     "output_type": "stream",
     "text": [
      "sbatch: slurm_job_submit: No account set, using default acct: open\n"
     ]
    },
    {
     "name": "stdout",
     "output_type": "stream",
     "text": [
      "Submitted batch job 6867145\n"
     ]
    },
    {
     "name": "stderr",
     "output_type": "stream",
     "text": [
      "sbatch: slurm_job_submit: No account set, using default acct: open\n"
     ]
    },
    {
     "name": "stdout",
     "output_type": "stream",
     "text": [
      "Submitted batch job 6867146\n"
     ]
    },
    {
     "name": "stderr",
     "output_type": "stream",
     "text": [
      "sbatch: slurm_job_submit: No account set, using default acct: open\n"
     ]
    },
    {
     "name": "stdout",
     "output_type": "stream",
     "text": [
      "Submitted batch job 6867148\n"
     ]
    },
    {
     "name": "stderr",
     "output_type": "stream",
     "text": [
      "sbatch: slurm_job_submit: No account set, using default acct: open\n"
     ]
    },
    {
     "name": "stdout",
     "output_type": "stream",
     "text": [
      "Submitted batch job 6867149\n"
     ]
    },
    {
     "name": "stderr",
     "output_type": "stream",
     "text": [
      "sbatch: slurm_job_submit: No account set, using default acct: open\n"
     ]
    },
    {
     "name": "stdout",
     "output_type": "stream",
     "text": [
      "Submitted batch job 6867150\n"
     ]
    },
    {
     "name": "stderr",
     "output_type": "stream",
     "text": [
      "sbatch: slurm_job_submit: No account set, using default acct: open\n"
     ]
    },
    {
     "name": "stdout",
     "output_type": "stream",
     "text": [
      "Submitted batch job 6867151\n"
     ]
    },
    {
     "name": "stderr",
     "output_type": "stream",
     "text": [
      "sbatch: slurm_job_submit: No account set, using default acct: open\n"
     ]
    },
    {
     "name": "stdout",
     "output_type": "stream",
     "text": [
      "Submitted batch job 6867152\n"
     ]
    },
    {
     "name": "stderr",
     "output_type": "stream",
     "text": [
      "sbatch: slurm_job_submit: No account set, using default acct: open\n"
     ]
    },
    {
     "name": "stdout",
     "output_type": "stream",
     "text": [
      "Submitted batch job 6867153\n"
     ]
    },
    {
     "name": "stderr",
     "output_type": "stream",
     "text": [
      "sbatch: slurm_job_submit: No account set, using default acct: open\n"
     ]
    },
    {
     "name": "stdout",
     "output_type": "stream",
     "text": [
      "Submitted batch job 6867154\n"
     ]
    },
    {
     "name": "stderr",
     "output_type": "stream",
     "text": [
      "sbatch: slurm_job_submit: No account set, using default acct: open\n"
     ]
    },
    {
     "name": "stdout",
     "output_type": "stream",
     "text": [
      "Submitted batch job 6867155\n"
     ]
    },
    {
     "name": "stderr",
     "output_type": "stream",
     "text": [
      "sbatch: slurm_job_submit: No account set, using default acct: open\n"
     ]
    },
    {
     "name": "stdout",
     "output_type": "stream",
     "text": [
      "Submitted batch job 6867156\n"
     ]
    },
    {
     "name": "stderr",
     "output_type": "stream",
     "text": [
      "sbatch: slurm_job_submit: No account set, using default acct: open\n"
     ]
    },
    {
     "name": "stdout",
     "output_type": "stream",
     "text": [
      "Submitted batch job 6867157\n"
     ]
    },
    {
     "name": "stderr",
     "output_type": "stream",
     "text": [
      "sbatch: slurm_job_submit: No account set, using default acct: open\n"
     ]
    },
    {
     "name": "stdout",
     "output_type": "stream",
     "text": [
      "Submitted batch job 6867158\n"
     ]
    },
    {
     "name": "stderr",
     "output_type": "stream",
     "text": [
      "sbatch: slurm_job_submit: No account set, using default acct: open\n"
     ]
    },
    {
     "name": "stdout",
     "output_type": "stream",
     "text": [
      "Submitted batch job 6867159\n"
     ]
    },
    {
     "name": "stderr",
     "output_type": "stream",
     "text": [
      "sbatch: slurm_job_submit: No account set, using default acct: open\n"
     ]
    },
    {
     "name": "stdout",
     "output_type": "stream",
     "text": [
      "Submitted batch job 6867160\n"
     ]
    },
    {
     "name": "stderr",
     "output_type": "stream",
     "text": [
      "sbatch: slurm_job_submit: No account set, using default acct: open\n"
     ]
    },
    {
     "name": "stdout",
     "output_type": "stream",
     "text": [
      "Submitted batch job 6867161\n"
     ]
    },
    {
     "name": "stderr",
     "output_type": "stream",
     "text": [
      "sbatch: slurm_job_submit: No account set, using default acct: open\n"
     ]
    },
    {
     "name": "stdout",
     "output_type": "stream",
     "text": [
      "Submitted batch job 6867162\n"
     ]
    },
    {
     "name": "stderr",
     "output_type": "stream",
     "text": [
      "sbatch: slurm_job_submit: No account set, using default acct: open\n"
     ]
    },
    {
     "name": "stdout",
     "output_type": "stream",
     "text": [
      "Submitted batch job 6867163\n"
     ]
    },
    {
     "name": "stderr",
     "output_type": "stream",
     "text": [
      "sbatch: slurm_job_submit: No account set, using default acct: open\n"
     ]
    },
    {
     "name": "stdout",
     "output_type": "stream",
     "text": [
      "Submitted batch job 6867164\n"
     ]
    },
    {
     "name": "stderr",
     "output_type": "stream",
     "text": [
      "sbatch: slurm_job_submit: No account set, using default acct: open\n"
     ]
    },
    {
     "name": "stdout",
     "output_type": "stream",
     "text": [
      "Submitted batch job 6867165\n"
     ]
    },
    {
     "name": "stderr",
     "output_type": "stream",
     "text": [
      "sbatch: slurm_job_submit: No account set, using default acct: open\n"
     ]
    },
    {
     "name": "stdout",
     "output_type": "stream",
     "text": [
      "Submitted batch job 6867166\n"
     ]
    },
    {
     "name": "stderr",
     "output_type": "stream",
     "text": [
      "sbatch: slurm_job_submit: No account set, using default acct: open\n"
     ]
    },
    {
     "name": "stdout",
     "output_type": "stream",
     "text": [
      "Submitted batch job 6867167\n"
     ]
    },
    {
     "name": "stderr",
     "output_type": "stream",
     "text": [
      "sbatch: slurm_job_submit: No account set, using default acct: open\n"
     ]
    },
    {
     "name": "stdout",
     "output_type": "stream",
     "text": [
      "Submitted batch job 6867168\n"
     ]
    },
    {
     "name": "stderr",
     "output_type": "stream",
     "text": [
      "sbatch: slurm_job_submit: No account set, using default acct: open\n"
     ]
    },
    {
     "name": "stdout",
     "output_type": "stream",
     "text": [
      "Submitted batch job 6867169\n"
     ]
    },
    {
     "name": "stderr",
     "output_type": "stream",
     "text": [
      "sbatch: slurm_job_submit: No account set, using default acct: open\n"
     ]
    },
    {
     "name": "stdout",
     "output_type": "stream",
     "text": [
      "Submitted batch job 6867170\n"
     ]
    },
    {
     "name": "stderr",
     "output_type": "stream",
     "text": [
      "sbatch: slurm_job_submit: No account set, using default acct: open\n"
     ]
    },
    {
     "name": "stdout",
     "output_type": "stream",
     "text": [
      "Submitted batch job 6867171\n"
     ]
    },
    {
     "name": "stderr",
     "output_type": "stream",
     "text": [
      "sbatch: slurm_job_submit: No account set, using default acct: open\n"
     ]
    },
    {
     "name": "stdout",
     "output_type": "stream",
     "text": [
      "Submitted batch job 6867173\n"
     ]
    },
    {
     "name": "stderr",
     "output_type": "stream",
     "text": [
      "sbatch: slurm_job_submit: No account set, using default acct: open\n"
     ]
    },
    {
     "name": "stdout",
     "output_type": "stream",
     "text": [
      "Submitted batch job 6867175\n"
     ]
    },
    {
     "name": "stderr",
     "output_type": "stream",
     "text": [
      "sbatch: slurm_job_submit: No account set, using default acct: open\n"
     ]
    },
    {
     "name": "stdout",
     "output_type": "stream",
     "text": [
      "Submitted batch job 6867177\n"
     ]
    },
    {
     "name": "stderr",
     "output_type": "stream",
     "text": [
      "sbatch: slurm_job_submit: No account set, using default acct: open\n"
     ]
    },
    {
     "name": "stdout",
     "output_type": "stream",
     "text": [
      "Submitted batch job 6867179\n"
     ]
    },
    {
     "name": "stderr",
     "output_type": "stream",
     "text": [
      "sbatch: slurm_job_submit: No account set, using default acct: open\n"
     ]
    },
    {
     "name": "stdout",
     "output_type": "stream",
     "text": [
      "Submitted batch job 6867181\n"
     ]
    },
    {
     "name": "stderr",
     "output_type": "stream",
     "text": [
      "sbatch: slurm_job_submit: No account set, using default acct: open\n"
     ]
    },
    {
     "name": "stdout",
     "output_type": "stream",
     "text": [
      "Submitted batch job 6867183\n"
     ]
    },
    {
     "name": "stderr",
     "output_type": "stream",
     "text": [
      "sbatch: slurm_job_submit: No account set, using default acct: open\n"
     ]
    },
    {
     "name": "stdout",
     "output_type": "stream",
     "text": [
      "Submitted batch job 6867185\n"
     ]
    },
    {
     "name": "stderr",
     "output_type": "stream",
     "text": [
      "sbatch: slurm_job_submit: No account set, using default acct: open\n"
     ]
    },
    {
     "name": "stdout",
     "output_type": "stream",
     "text": [
      "Submitted batch job 6867187\n"
     ]
    },
    {
     "name": "stderr",
     "output_type": "stream",
     "text": [
      "sbatch: slurm_job_submit: No account set, using default acct: open\n"
     ]
    },
    {
     "name": "stdout",
     "output_type": "stream",
     "text": [
      "Submitted batch job 6867189\n"
     ]
    },
    {
     "name": "stderr",
     "output_type": "stream",
     "text": [
      "sbatch: slurm_job_submit: No account set, using default acct: open\n"
     ]
    },
    {
     "name": "stdout",
     "output_type": "stream",
     "text": [
      "Submitted batch job 6867191\n"
     ]
    },
    {
     "name": "stderr",
     "output_type": "stream",
     "text": [
      "sbatch: slurm_job_submit: No account set, using default acct: open\n"
     ]
    },
    {
     "name": "stdout",
     "output_type": "stream",
     "text": [
      "Submitted batch job 6867193\n"
     ]
    },
    {
     "name": "stderr",
     "output_type": "stream",
     "text": [
      "sbatch: slurm_job_submit: No account set, using default acct: open\n"
     ]
    },
    {
     "name": "stdout",
     "output_type": "stream",
     "text": [
      "Submitted batch job 6867195\n"
     ]
    },
    {
     "name": "stderr",
     "output_type": "stream",
     "text": [
      "sbatch: slurm_job_submit: No account set, using default acct: open\n"
     ]
    },
    {
     "name": "stdout",
     "output_type": "stream",
     "text": [
      "Submitted batch job 6867197\n"
     ]
    },
    {
     "name": "stderr",
     "output_type": "stream",
     "text": [
      "sbatch: slurm_job_submit: No account set, using default acct: open\n"
     ]
    },
    {
     "name": "stdout",
     "output_type": "stream",
     "text": [
      "Submitted batch job 6867199\n"
     ]
    },
    {
     "name": "stderr",
     "output_type": "stream",
     "text": [
      "sbatch: slurm_job_submit: No account set, using default acct: open\n"
     ]
    },
    {
     "name": "stdout",
     "output_type": "stream",
     "text": [
      "Submitted batch job 6867201\n"
     ]
    },
    {
     "name": "stderr",
     "output_type": "stream",
     "text": [
      "sbatch: slurm_job_submit: No account set, using default acct: open\n"
     ]
    },
    {
     "name": "stdout",
     "output_type": "stream",
     "text": [
      "Submitted batch job 6867203\n"
     ]
    },
    {
     "name": "stderr",
     "output_type": "stream",
     "text": [
      "sbatch: slurm_job_submit: No account set, using default acct: open\n"
     ]
    },
    {
     "name": "stdout",
     "output_type": "stream",
     "text": [
      "Submitted batch job 6867205\n"
     ]
    },
    {
     "name": "stderr",
     "output_type": "stream",
     "text": [
      "sbatch: slurm_job_submit: No account set, using default acct: open\n"
     ]
    },
    {
     "name": "stdout",
     "output_type": "stream",
     "text": [
      "Submitted batch job 6867207\n"
     ]
    },
    {
     "name": "stderr",
     "output_type": "stream",
     "text": [
      "sbatch: slurm_job_submit: No account set, using default acct: open\n"
     ]
    },
    {
     "name": "stdout",
     "output_type": "stream",
     "text": [
      "Submitted batch job 6867209\n"
     ]
    },
    {
     "name": "stderr",
     "output_type": "stream",
     "text": [
      "sbatch: slurm_job_submit: No account set, using default acct: open\n"
     ]
    },
    {
     "name": "stdout",
     "output_type": "stream",
     "text": [
      "Submitted batch job 6867211\n"
     ]
    },
    {
     "name": "stderr",
     "output_type": "stream",
     "text": [
      "sbatch: slurm_job_submit: No account set, using default acct: open\n"
     ]
    },
    {
     "name": "stdout",
     "output_type": "stream",
     "text": [
      "Submitted batch job 6867213\n",
      "#!/bin/bash\n",
      "#SBATCH --nodes=1\n",
      "#SBATCH --ntasks=8\n",
      "#SBATCH --mem=48GB\n",
      "#SBATCH --time=12:00:00\n",
      "#SBATCH --job-name=trimgalore\n",
      "\n",
      "cd ~\n",
      "source ~/.bashrc\n",
      "conda activate deseq2\n",
      "\n",
      "cd ~/scratch/acer/sra_downloads\n",
      "mkdir -p ~/scratch/acer/trimmed\n",
      "\n",
      "trim_galore --cores 8 \\\n",
      "\tSRR8801492.fastq \\\n",
      "\t-o ../trimmed --gzip\n"
     ]
    }
   ],
   "source": [
    "%%bash\n",
    "cd /storage/group/ibb3/default/acer_cnat_dcyl_ssid_assembly/\n",
    "for seq in $( ls ~/scratch/acer/sra_downloads | cut -d\"_\" -f1 | cut -d\".\" -f1 | sort | uniq ); do\n",
    "    PREFIX=$( ls  ~/scratch/acer/sra_downloads/${seq}* | cut -d\"/\" -f8 | cut -d\".\" -f1 )\n",
    "    cat /storage/group/ibb3/default/acer_cnat_dcyl_ssid_assembly/trimgalore.sh \\\n",
    "        | sed \"s:--paired ./tmpspot_1.fastq ::g\" | sed \"s:./tmpspot_2:${PREFIX}:g\" \\\n",
    "        > ./tmp.sh\n",
    "    sbatch ./tmp.sh\n",
    "done\n",
    "cat ./tmp.sh"
   ]
  },
  {
   "cell_type": "markdown",
   "id": "4fe3846b",
   "metadata": {},
   "source": [
    "Our headers are incompatible with the Trinity version required by Funannotate. So we fix it using the following code which converts the headers from this:"
   ]
  },
  {
   "cell_type": "code",
   "execution_count": 27,
   "id": "b0af8356",
   "metadata": {
    "scrolled": true
   },
   "outputs": [
    {
     "name": "stderr",
     "output_type": "stream",
     "text": [
      "sbatch: slurm_job_submit: No account set, using default acct: open\n"
     ]
    },
    {
     "name": "stdout",
     "output_type": "stream",
     "text": [
      "Submitted batch job 6886469\n"
     ]
    },
    {
     "name": "stderr",
     "output_type": "stream",
     "text": [
      "sbatch: slurm_job_submit: No account set, using default acct: open\n"
     ]
    },
    {
     "name": "stdout",
     "output_type": "stream",
     "text": [
      "Submitted batch job 6886472\n"
     ]
    },
    {
     "name": "stderr",
     "output_type": "stream",
     "text": [
      "sbatch: slurm_job_submit: No account set, using default acct: open\n"
     ]
    },
    {
     "name": "stdout",
     "output_type": "stream",
     "text": [
      "Submitted batch job 6886474\n"
     ]
    },
    {
     "name": "stderr",
     "output_type": "stream",
     "text": [
      "sbatch: slurm_job_submit: No account set, using default acct: open\n"
     ]
    },
    {
     "name": "stdout",
     "output_type": "stream",
     "text": [
      "Submitted batch job 6886475\n"
     ]
    },
    {
     "name": "stderr",
     "output_type": "stream",
     "text": [
      "sbatch: slurm_job_submit: No account set, using default acct: open\n"
     ]
    },
    {
     "name": "stdout",
     "output_type": "stream",
     "text": [
      "Submitted batch job 6886477\n"
     ]
    },
    {
     "name": "stderr",
     "output_type": "stream",
     "text": [
      "sbatch: slurm_job_submit: No account set, using default acct: open\n"
     ]
    },
    {
     "name": "stdout",
     "output_type": "stream",
     "text": [
      "Submitted batch job 6886479\n"
     ]
    },
    {
     "name": "stderr",
     "output_type": "stream",
     "text": [
      "sbatch: slurm_job_submit: No account set, using default acct: open\n"
     ]
    },
    {
     "name": "stdout",
     "output_type": "stream",
     "text": [
      "Submitted batch job 6886481\n"
     ]
    },
    {
     "name": "stderr",
     "output_type": "stream",
     "text": [
      "sbatch: slurm_job_submit: No account set, using default acct: open\n"
     ]
    },
    {
     "name": "stdout",
     "output_type": "stream",
     "text": [
      "Submitted batch job 6886484\n"
     ]
    },
    {
     "name": "stderr",
     "output_type": "stream",
     "text": [
      "sbatch: slurm_job_submit: No account set, using default acct: open\n"
     ]
    },
    {
     "name": "stdout",
     "output_type": "stream",
     "text": [
      "Submitted batch job 6886485\n"
     ]
    },
    {
     "name": "stderr",
     "output_type": "stream",
     "text": [
      "sbatch: slurm_job_submit: No account set, using default acct: open\n"
     ]
    },
    {
     "name": "stdout",
     "output_type": "stream",
     "text": [
      "Submitted batch job 6886487\n"
     ]
    },
    {
     "name": "stderr",
     "output_type": "stream",
     "text": [
      "sbatch: slurm_job_submit: No account set, using default acct: open\n"
     ]
    },
    {
     "name": "stdout",
     "output_type": "stream",
     "text": [
      "Submitted batch job 6886488\n"
     ]
    },
    {
     "name": "stderr",
     "output_type": "stream",
     "text": [
      "sbatch: slurm_job_submit: No account set, using default acct: open\n"
     ]
    },
    {
     "name": "stdout",
     "output_type": "stream",
     "text": [
      "Submitted batch job 6886490\n"
     ]
    },
    {
     "name": "stderr",
     "output_type": "stream",
     "text": [
      "sbatch: slurm_job_submit: No account set, using default acct: open\n"
     ]
    },
    {
     "name": "stdout",
     "output_type": "stream",
     "text": [
      "Submitted batch job 6886492\n"
     ]
    },
    {
     "name": "stderr",
     "output_type": "stream",
     "text": [
      "sbatch: slurm_job_submit: No account set, using default acct: open\n"
     ]
    },
    {
     "name": "stdout",
     "output_type": "stream",
     "text": [
      "Submitted batch job 6886494\n"
     ]
    },
    {
     "name": "stderr",
     "output_type": "stream",
     "text": [
      "sbatch: slurm_job_submit: No account set, using default acct: open\n"
     ]
    },
    {
     "name": "stdout",
     "output_type": "stream",
     "text": [
      "Submitted batch job 6886496\n"
     ]
    },
    {
     "name": "stderr",
     "output_type": "stream",
     "text": [
      "sbatch: slurm_job_submit: No account set, using default acct: open\n"
     ]
    },
    {
     "name": "stdout",
     "output_type": "stream",
     "text": [
      "Submitted batch job 6886498\n"
     ]
    },
    {
     "name": "stderr",
     "output_type": "stream",
     "text": [
      "sbatch: slurm_job_submit: No account set, using default acct: open\n"
     ]
    },
    {
     "name": "stdout",
     "output_type": "stream",
     "text": [
      "Submitted batch job 6886500\n"
     ]
    },
    {
     "name": "stderr",
     "output_type": "stream",
     "text": [
      "sbatch: slurm_job_submit: No account set, using default acct: open\n"
     ]
    },
    {
     "name": "stdout",
     "output_type": "stream",
     "text": [
      "Submitted batch job 6886501\n"
     ]
    },
    {
     "name": "stderr",
     "output_type": "stream",
     "text": [
      "sbatch: slurm_job_submit: No account set, using default acct: open\n"
     ]
    },
    {
     "name": "stdout",
     "output_type": "stream",
     "text": [
      "Submitted batch job 6886503\n"
     ]
    },
    {
     "name": "stderr",
     "output_type": "stream",
     "text": [
      "sbatch: slurm_job_submit: No account set, using default acct: open\n"
     ]
    },
    {
     "name": "stdout",
     "output_type": "stream",
     "text": [
      "Submitted batch job 6886505\n"
     ]
    },
    {
     "name": "stderr",
     "output_type": "stream",
     "text": [
      "sbatch: slurm_job_submit: No account set, using default acct: open\n"
     ]
    },
    {
     "name": "stdout",
     "output_type": "stream",
     "text": [
      "Submitted batch job 6886506\n"
     ]
    },
    {
     "name": "stderr",
     "output_type": "stream",
     "text": [
      "sbatch: slurm_job_submit: No account set, using default acct: open\n"
     ]
    },
    {
     "name": "stdout",
     "output_type": "stream",
     "text": [
      "Submitted batch job 6886508\n"
     ]
    },
    {
     "name": "stderr",
     "output_type": "stream",
     "text": [
      "sbatch: slurm_job_submit: No account set, using default acct: open\n"
     ]
    },
    {
     "name": "stdout",
     "output_type": "stream",
     "text": [
      "Submitted batch job 6886510\n"
     ]
    },
    {
     "name": "stderr",
     "output_type": "stream",
     "text": [
      "sbatch: slurm_job_submit: No account set, using default acct: open\n"
     ]
    },
    {
     "name": "stdout",
     "output_type": "stream",
     "text": [
      "Submitted batch job 6886512\n"
     ]
    },
    {
     "name": "stderr",
     "output_type": "stream",
     "text": [
      "sbatch: slurm_job_submit: No account set, using default acct: open\n"
     ]
    },
    {
     "name": "stdout",
     "output_type": "stream",
     "text": [
      "Submitted batch job 6886514\n"
     ]
    },
    {
     "name": "stderr",
     "output_type": "stream",
     "text": [
      "sbatch: slurm_job_submit: No account set, using default acct: open\n"
     ]
    },
    {
     "name": "stdout",
     "output_type": "stream",
     "text": [
      "Submitted batch job 6886516\n"
     ]
    },
    {
     "name": "stderr",
     "output_type": "stream",
     "text": [
      "sbatch: slurm_job_submit: No account set, using default acct: open\n"
     ]
    },
    {
     "name": "stdout",
     "output_type": "stream",
     "text": [
      "Submitted batch job 6886518\n"
     ]
    },
    {
     "name": "stderr",
     "output_type": "stream",
     "text": [
      "sbatch: slurm_job_submit: No account set, using default acct: open\n"
     ]
    },
    {
     "name": "stdout",
     "output_type": "stream",
     "text": [
      "Submitted batch job 6886520\n"
     ]
    },
    {
     "name": "stderr",
     "output_type": "stream",
     "text": [
      "sbatch: slurm_job_submit: No account set, using default acct: open\n"
     ]
    },
    {
     "name": "stdout",
     "output_type": "stream",
     "text": [
      "Submitted batch job 6886522\n"
     ]
    },
    {
     "name": "stderr",
     "output_type": "stream",
     "text": [
      "sbatch: slurm_job_submit: No account set, using default acct: open\n"
     ]
    },
    {
     "name": "stdout",
     "output_type": "stream",
     "text": [
      "Submitted batch job 6886524\n"
     ]
    },
    {
     "name": "stderr",
     "output_type": "stream",
     "text": [
      "sbatch: slurm_job_submit: No account set, using default acct: open\n"
     ]
    },
    {
     "name": "stdout",
     "output_type": "stream",
     "text": [
      "Submitted batch job 6886526\n"
     ]
    },
    {
     "name": "stderr",
     "output_type": "stream",
     "text": [
      "sbatch: slurm_job_submit: No account set, using default acct: open\n"
     ]
    },
    {
     "name": "stdout",
     "output_type": "stream",
     "text": [
      "Submitted batch job 6886528\n"
     ]
    },
    {
     "name": "stderr",
     "output_type": "stream",
     "text": [
      "sbatch: slurm_job_submit: No account set, using default acct: open\n"
     ]
    },
    {
     "name": "stdout",
     "output_type": "stream",
     "text": [
      "Submitted batch job 6886530\n"
     ]
    },
    {
     "name": "stderr",
     "output_type": "stream",
     "text": [
      "sbatch: slurm_job_submit: No account set, using default acct: open\n"
     ]
    },
    {
     "name": "stdout",
     "output_type": "stream",
     "text": [
      "Submitted batch job 6886531\n"
     ]
    },
    {
     "name": "stderr",
     "output_type": "stream",
     "text": [
      "sbatch: slurm_job_submit: No account set, using default acct: open\n"
     ]
    },
    {
     "name": "stdout",
     "output_type": "stream",
     "text": [
      "Submitted batch job 6886533\n"
     ]
    },
    {
     "name": "stderr",
     "output_type": "stream",
     "text": [
      "sbatch: slurm_job_submit: No account set, using default acct: open\n"
     ]
    },
    {
     "name": "stdout",
     "output_type": "stream",
     "text": [
      "Submitted batch job 6886535\n"
     ]
    },
    {
     "name": "stderr",
     "output_type": "stream",
     "text": [
      "sbatch: slurm_job_submit: No account set, using default acct: open\n"
     ]
    },
    {
     "name": "stdout",
     "output_type": "stream",
     "text": [
      "Submitted batch job 6886537\n"
     ]
    },
    {
     "name": "stderr",
     "output_type": "stream",
     "text": [
      "sbatch: slurm_job_submit: No account set, using default acct: open\n"
     ]
    },
    {
     "name": "stdout",
     "output_type": "stream",
     "text": [
      "Submitted batch job 6886539\n"
     ]
    },
    {
     "name": "stderr",
     "output_type": "stream",
     "text": [
      "sbatch: slurm_job_submit: No account set, using default acct: open\n"
     ]
    },
    {
     "name": "stdout",
     "output_type": "stream",
     "text": [
      "Submitted batch job 6886541\n"
     ]
    },
    {
     "name": "stderr",
     "output_type": "stream",
     "text": [
      "sbatch: slurm_job_submit: No account set, using default acct: open\n"
     ]
    },
    {
     "name": "stdout",
     "output_type": "stream",
     "text": [
      "Submitted batch job 6886543\n"
     ]
    },
    {
     "name": "stderr",
     "output_type": "stream",
     "text": [
      "sbatch: slurm_job_submit: No account set, using default acct: open\n"
     ]
    },
    {
     "name": "stdout",
     "output_type": "stream",
     "text": [
      "Submitted batch job 6886545\n"
     ]
    },
    {
     "name": "stderr",
     "output_type": "stream",
     "text": [
      "sbatch: slurm_job_submit: No account set, using default acct: open\n"
     ]
    },
    {
     "name": "stdout",
     "output_type": "stream",
     "text": [
      "Submitted batch job 6886547\n"
     ]
    },
    {
     "name": "stderr",
     "output_type": "stream",
     "text": [
      "sbatch: slurm_job_submit: No account set, using default acct: open\n"
     ]
    },
    {
     "name": "stdout",
     "output_type": "stream",
     "text": [
      "Submitted batch job 6886548\n"
     ]
    },
    {
     "name": "stderr",
     "output_type": "stream",
     "text": [
      "sbatch: slurm_job_submit: No account set, using default acct: open\n"
     ]
    },
    {
     "name": "stdout",
     "output_type": "stream",
     "text": [
      "Submitted batch job 6886550\n"
     ]
    },
    {
     "name": "stderr",
     "output_type": "stream",
     "text": [
      "sbatch: slurm_job_submit: No account set, using default acct: open\n"
     ]
    },
    {
     "name": "stdout",
     "output_type": "stream",
     "text": [
      "Submitted batch job 6886552\n"
     ]
    },
    {
     "name": "stderr",
     "output_type": "stream",
     "text": [
      "sbatch: slurm_job_submit: No account set, using default acct: open\n"
     ]
    },
    {
     "name": "stdout",
     "output_type": "stream",
     "text": [
      "Submitted batch job 6886554\n"
     ]
    },
    {
     "name": "stderr",
     "output_type": "stream",
     "text": [
      "sbatch: slurm_job_submit: No account set, using default acct: open\n"
     ]
    },
    {
     "name": "stdout",
     "output_type": "stream",
     "text": [
      "Submitted batch job 6886556\n"
     ]
    },
    {
     "name": "stderr",
     "output_type": "stream",
     "text": [
      "sbatch: slurm_job_submit: No account set, using default acct: open\n"
     ]
    },
    {
     "name": "stdout",
     "output_type": "stream",
     "text": [
      "Submitted batch job 6886558\n"
     ]
    },
    {
     "name": "stderr",
     "output_type": "stream",
     "text": [
      "sbatch: slurm_job_submit: No account set, using default acct: open\n"
     ]
    },
    {
     "name": "stdout",
     "output_type": "stream",
     "text": [
      "Submitted batch job 6886560\n"
     ]
    },
    {
     "name": "stderr",
     "output_type": "stream",
     "text": [
      "sbatch: slurm_job_submit: No account set, using default acct: open\n"
     ]
    },
    {
     "name": "stdout",
     "output_type": "stream",
     "text": [
      "Submitted batch job 6886562\n"
     ]
    },
    {
     "name": "stderr",
     "output_type": "stream",
     "text": [
      "sbatch: slurm_job_submit: No account set, using default acct: open\n"
     ]
    },
    {
     "name": "stdout",
     "output_type": "stream",
     "text": [
      "Submitted batch job 6886566\n"
     ]
    },
    {
     "name": "stderr",
     "output_type": "stream",
     "text": [
      "sbatch: slurm_job_submit: No account set, using default acct: open\n"
     ]
    },
    {
     "name": "stdout",
     "output_type": "stream",
     "text": [
      "Submitted batch job 6886567\n"
     ]
    },
    {
     "name": "stderr",
     "output_type": "stream",
     "text": [
      "sbatch: slurm_job_submit: No account set, using default acct: open\n"
     ]
    },
    {
     "name": "stdout",
     "output_type": "stream",
     "text": [
      "Submitted batch job 6886569\n"
     ]
    },
    {
     "name": "stderr",
     "output_type": "stream",
     "text": [
      "sbatch: slurm_job_submit: No account set, using default acct: open\n"
     ]
    },
    {
     "name": "stdout",
     "output_type": "stream",
     "text": [
      "Submitted batch job 6886570\n"
     ]
    },
    {
     "name": "stderr",
     "output_type": "stream",
     "text": [
      "sbatch: slurm_job_submit: No account set, using default acct: open\n"
     ]
    },
    {
     "name": "stdout",
     "output_type": "stream",
     "text": [
      "Submitted batch job 6886572\n"
     ]
    },
    {
     "name": "stderr",
     "output_type": "stream",
     "text": [
      "sbatch: slurm_job_submit: No account set, using default acct: open\n"
     ]
    },
    {
     "name": "stdout",
     "output_type": "stream",
     "text": [
      "Submitted batch job 6886573\n"
     ]
    },
    {
     "name": "stderr",
     "output_type": "stream",
     "text": [
      "sbatch: slurm_job_submit: No account set, using default acct: open\n"
     ]
    },
    {
     "name": "stdout",
     "output_type": "stream",
     "text": [
      "Submitted batch job 6886574\n"
     ]
    },
    {
     "name": "stderr",
     "output_type": "stream",
     "text": [
      "sbatch: slurm_job_submit: No account set, using default acct: open\n"
     ]
    },
    {
     "name": "stdout",
     "output_type": "stream",
     "text": [
      "Submitted batch job 6886576\n"
     ]
    },
    {
     "name": "stderr",
     "output_type": "stream",
     "text": [
      "sbatch: slurm_job_submit: No account set, using default acct: open\n"
     ]
    },
    {
     "name": "stdout",
     "output_type": "stream",
     "text": [
      "Submitted batch job 6886578\n"
     ]
    },
    {
     "name": "stderr",
     "output_type": "stream",
     "text": [
      "sbatch: slurm_job_submit: No account set, using default acct: open\n"
     ]
    },
    {
     "name": "stdout",
     "output_type": "stream",
     "text": [
      "Submitted batch job 6886580\n"
     ]
    },
    {
     "name": "stderr",
     "output_type": "stream",
     "text": [
      "sbatch: slurm_job_submit: No account set, using default acct: open\n"
     ]
    },
    {
     "name": "stdout",
     "output_type": "stream",
     "text": [
      "Submitted batch job 6886582\n"
     ]
    },
    {
     "name": "stderr",
     "output_type": "stream",
     "text": [
      "sbatch: slurm_job_submit: No account set, using default acct: open\n"
     ]
    },
    {
     "name": "stdout",
     "output_type": "stream",
     "text": [
      "Submitted batch job 6886584\n"
     ]
    },
    {
     "name": "stderr",
     "output_type": "stream",
     "text": [
      "sbatch: slurm_job_submit: No account set, using default acct: open\n"
     ]
    },
    {
     "name": "stdout",
     "output_type": "stream",
     "text": [
      "Submitted batch job 6886586\n"
     ]
    },
    {
     "name": "stderr",
     "output_type": "stream",
     "text": [
      "sbatch: slurm_job_submit: No account set, using default acct: open\n"
     ]
    },
    {
     "name": "stdout",
     "output_type": "stream",
     "text": [
      "Submitted batch job 6886587\n"
     ]
    },
    {
     "name": "stderr",
     "output_type": "stream",
     "text": [
      "sbatch: slurm_job_submit: No account set, using default acct: open\n"
     ]
    },
    {
     "name": "stdout",
     "output_type": "stream",
     "text": [
      "Submitted batch job 6886589\n"
     ]
    },
    {
     "name": "stderr",
     "output_type": "stream",
     "text": [
      "sbatch: slurm_job_submit: No account set, using default acct: open\n"
     ]
    },
    {
     "name": "stdout",
     "output_type": "stream",
     "text": [
      "Submitted batch job 6886591\n"
     ]
    },
    {
     "name": "stderr",
     "output_type": "stream",
     "text": [
      "sbatch: slurm_job_submit: No account set, using default acct: open\n"
     ]
    },
    {
     "name": "stdout",
     "output_type": "stream",
     "text": [
      "Submitted batch job 6886593\n"
     ]
    },
    {
     "name": "stderr",
     "output_type": "stream",
     "text": [
      "sbatch: slurm_job_submit: No account set, using default acct: open\n"
     ]
    },
    {
     "name": "stdout",
     "output_type": "stream",
     "text": [
      "Submitted batch job 6886595\n"
     ]
    },
    {
     "name": "stderr",
     "output_type": "stream",
     "text": [
      "sbatch: slurm_job_submit: No account set, using default acct: open\n"
     ]
    },
    {
     "name": "stdout",
     "output_type": "stream",
     "text": [
      "Submitted batch job 6886597\n"
     ]
    },
    {
     "name": "stderr",
     "output_type": "stream",
     "text": [
      "sbatch: slurm_job_submit: No account set, using default acct: open\n"
     ]
    },
    {
     "name": "stdout",
     "output_type": "stream",
     "text": [
      "Submitted batch job 6886599\n"
     ]
    },
    {
     "name": "stderr",
     "output_type": "stream",
     "text": [
      "sbatch: slurm_job_submit: No account set, using default acct: open\n"
     ]
    },
    {
     "name": "stdout",
     "output_type": "stream",
     "text": [
      "Submitted batch job 6886602\n"
     ]
    },
    {
     "name": "stderr",
     "output_type": "stream",
     "text": [
      "sbatch: slurm_job_submit: No account set, using default acct: open\n"
     ]
    },
    {
     "name": "stdout",
     "output_type": "stream",
     "text": [
      "Submitted batch job 6886603\n"
     ]
    },
    {
     "name": "stderr",
     "output_type": "stream",
     "text": [
      "sbatch: slurm_job_submit: No account set, using default acct: open\n"
     ]
    },
    {
     "name": "stdout",
     "output_type": "stream",
     "text": [
      "Submitted batch job 6886605\n"
     ]
    },
    {
     "name": "stderr",
     "output_type": "stream",
     "text": [
      "sbatch: slurm_job_submit: No account set, using default acct: open\n"
     ]
    },
    {
     "name": "stdout",
     "output_type": "stream",
     "text": [
      "Submitted batch job 6886608\n"
     ]
    },
    {
     "name": "stderr",
     "output_type": "stream",
     "text": [
      "sbatch: slurm_job_submit: No account set, using default acct: open\n"
     ]
    },
    {
     "name": "stdout",
     "output_type": "stream",
     "text": [
      "Submitted batch job 6886610\n"
     ]
    },
    {
     "name": "stderr",
     "output_type": "stream",
     "text": [
      "sbatch: slurm_job_submit: No account set, using default acct: open\n"
     ]
    },
    {
     "name": "stdout",
     "output_type": "stream",
     "text": [
      "Submitted batch job 6886612\n"
     ]
    },
    {
     "name": "stderr",
     "output_type": "stream",
     "text": [
      "sbatch: slurm_job_submit: No account set, using default acct: open\n"
     ]
    },
    {
     "name": "stdout",
     "output_type": "stream",
     "text": [
      "Submitted batch job 6886614\n"
     ]
    },
    {
     "name": "stderr",
     "output_type": "stream",
     "text": [
      "sbatch: slurm_job_submit: No account set, using default acct: open\n"
     ]
    },
    {
     "name": "stdout",
     "output_type": "stream",
     "text": [
      "Submitted batch job 6886615\n"
     ]
    },
    {
     "name": "stderr",
     "output_type": "stream",
     "text": [
      "sbatch: slurm_job_submit: No account set, using default acct: open\n"
     ]
    },
    {
     "name": "stdout",
     "output_type": "stream",
     "text": [
      "Submitted batch job 6886617\n"
     ]
    },
    {
     "name": "stderr",
     "output_type": "stream",
     "text": [
      "sbatch: slurm_job_submit: No account set, using default acct: open\n"
     ]
    },
    {
     "name": "stdout",
     "output_type": "stream",
     "text": [
      "Submitted batch job 6886619\n"
     ]
    },
    {
     "name": "stderr",
     "output_type": "stream",
     "text": [
      "sbatch: slurm_job_submit: No account set, using default acct: open\n"
     ]
    },
    {
     "name": "stdout",
     "output_type": "stream",
     "text": [
      "Submitted batch job 6886621\n"
     ]
    },
    {
     "name": "stderr",
     "output_type": "stream",
     "text": [
      "sbatch: slurm_job_submit: No account set, using default acct: open\n"
     ]
    },
    {
     "name": "stdout",
     "output_type": "stream",
     "text": [
      "Submitted batch job 6886623\n"
     ]
    },
    {
     "name": "stderr",
     "output_type": "stream",
     "text": [
      "sbatch: slurm_job_submit: No account set, using default acct: open\n"
     ]
    },
    {
     "name": "stdout",
     "output_type": "stream",
     "text": [
      "Submitted batch job 6886625\n"
     ]
    },
    {
     "name": "stderr",
     "output_type": "stream",
     "text": [
      "sbatch: slurm_job_submit: No account set, using default acct: open\n"
     ]
    },
    {
     "name": "stdout",
     "output_type": "stream",
     "text": [
      "Submitted batch job 6886627\n"
     ]
    },
    {
     "name": "stderr",
     "output_type": "stream",
     "text": [
      "sbatch: slurm_job_submit: No account set, using default acct: open\n"
     ]
    },
    {
     "name": "stdout",
     "output_type": "stream",
     "text": [
      "Submitted batch job 6886629\n"
     ]
    },
    {
     "name": "stderr",
     "output_type": "stream",
     "text": [
      "sbatch: slurm_job_submit: No account set, using default acct: open\n"
     ]
    },
    {
     "name": "stdout",
     "output_type": "stream",
     "text": [
      "Submitted batch job 6886630\n"
     ]
    },
    {
     "name": "stderr",
     "output_type": "stream",
     "text": [
      "sbatch: slurm_job_submit: No account set, using default acct: open\n"
     ]
    },
    {
     "name": "stdout",
     "output_type": "stream",
     "text": [
      "Submitted batch job 6886632\n"
     ]
    },
    {
     "name": "stderr",
     "output_type": "stream",
     "text": [
      "sbatch: slurm_job_submit: No account set, using default acct: open\n"
     ]
    },
    {
     "name": "stdout",
     "output_type": "stream",
     "text": [
      "Submitted batch job 6886635\n"
     ]
    },
    {
     "name": "stderr",
     "output_type": "stream",
     "text": [
      "sbatch: slurm_job_submit: No account set, using default acct: open\n"
     ]
    },
    {
     "name": "stdout",
     "output_type": "stream",
     "text": [
      "Submitted batch job 6886637\n"
     ]
    },
    {
     "name": "stderr",
     "output_type": "stream",
     "text": [
      "sbatch: slurm_job_submit: No account set, using default acct: open\n"
     ]
    },
    {
     "name": "stdout",
     "output_type": "stream",
     "text": [
      "Submitted batch job 6886639\n"
     ]
    },
    {
     "name": "stderr",
     "output_type": "stream",
     "text": [
      "sbatch: slurm_job_submit: No account set, using default acct: open\n"
     ]
    },
    {
     "name": "stdout",
     "output_type": "stream",
     "text": [
      "Submitted batch job 6886641\n"
     ]
    },
    {
     "name": "stderr",
     "output_type": "stream",
     "text": [
      "sbatch: slurm_job_submit: No account set, using default acct: open\n"
     ]
    },
    {
     "name": "stdout",
     "output_type": "stream",
     "text": [
      "Submitted batch job 6886643\n"
     ]
    },
    {
     "name": "stderr",
     "output_type": "stream",
     "text": [
      "sbatch: slurm_job_submit: No account set, using default acct: open\n"
     ]
    },
    {
     "name": "stdout",
     "output_type": "stream",
     "text": [
      "Submitted batch job 6886645\n"
     ]
    },
    {
     "name": "stderr",
     "output_type": "stream",
     "text": [
      "sbatch: slurm_job_submit: No account set, using default acct: open\n"
     ]
    },
    {
     "name": "stdout",
     "output_type": "stream",
     "text": [
      "Submitted batch job 6886647\n"
     ]
    },
    {
     "name": "stderr",
     "output_type": "stream",
     "text": [
      "sbatch: slurm_job_submit: No account set, using default acct: open\n"
     ]
    },
    {
     "name": "stdout",
     "output_type": "stream",
     "text": [
      "Submitted batch job 6886649\n"
     ]
    },
    {
     "name": "stderr",
     "output_type": "stream",
     "text": [
      "sbatch: slurm_job_submit: No account set, using default acct: open\n"
     ]
    },
    {
     "name": "stdout",
     "output_type": "stream",
     "text": [
      "Submitted batch job 6886651\n"
     ]
    },
    {
     "name": "stderr",
     "output_type": "stream",
     "text": [
      "sbatch: slurm_job_submit: No account set, using default acct: open\n"
     ]
    },
    {
     "name": "stdout",
     "output_type": "stream",
     "text": [
      "Submitted batch job 6886653\n"
     ]
    },
    {
     "name": "stderr",
     "output_type": "stream",
     "text": [
      "sbatch: slurm_job_submit: No account set, using default acct: open\n"
     ]
    },
    {
     "name": "stdout",
     "output_type": "stream",
     "text": [
      "Submitted batch job 6886655\n"
     ]
    },
    {
     "name": "stderr",
     "output_type": "stream",
     "text": [
      "sbatch: slurm_job_submit: No account set, using default acct: open\n"
     ]
    },
    {
     "name": "stdout",
     "output_type": "stream",
     "text": [
      "Submitted batch job 6886657\n"
     ]
    },
    {
     "name": "stderr",
     "output_type": "stream",
     "text": [
      "sbatch: slurm_job_submit: No account set, using default acct: open\n"
     ]
    },
    {
     "name": "stdout",
     "output_type": "stream",
     "text": [
      "Submitted batch job 6886659\n"
     ]
    },
    {
     "name": "stderr",
     "output_type": "stream",
     "text": [
      "sbatch: slurm_job_submit: No account set, using default acct: open\n"
     ]
    },
    {
     "name": "stdout",
     "output_type": "stream",
     "text": [
      "Submitted batch job 6886662\n"
     ]
    },
    {
     "name": "stderr",
     "output_type": "stream",
     "text": [
      "sbatch: slurm_job_submit: No account set, using default acct: open\n"
     ]
    },
    {
     "name": "stdout",
     "output_type": "stream",
     "text": [
      "Submitted batch job 6886664\n"
     ]
    },
    {
     "name": "stderr",
     "output_type": "stream",
     "text": [
      "sbatch: slurm_job_submit: No account set, using default acct: open\n"
     ]
    },
    {
     "name": "stdout",
     "output_type": "stream",
     "text": [
      "Submitted batch job 6886666\n"
     ]
    },
    {
     "name": "stderr",
     "output_type": "stream",
     "text": [
      "sbatch: slurm_job_submit: No account set, using default acct: open\n"
     ]
    },
    {
     "name": "stdout",
     "output_type": "stream",
     "text": [
      "Submitted batch job 6886668\n"
     ]
    },
    {
     "name": "stderr",
     "output_type": "stream",
     "text": [
      "sbatch: slurm_job_submit: No account set, using default acct: open\n"
     ]
    },
    {
     "name": "stdout",
     "output_type": "stream",
     "text": [
      "Submitted batch job 6886670\n"
     ]
    },
    {
     "name": "stderr",
     "output_type": "stream",
     "text": [
      "sbatch: slurm_job_submit: No account set, using default acct: open\n"
     ]
    },
    {
     "name": "stdout",
     "output_type": "stream",
     "text": [
      "Submitted batch job 6886672\n"
     ]
    },
    {
     "name": "stderr",
     "output_type": "stream",
     "text": [
      "sbatch: slurm_job_submit: No account set, using default acct: open\n"
     ]
    },
    {
     "name": "stdout",
     "output_type": "stream",
     "text": [
      "Submitted batch job 6886674\n"
     ]
    },
    {
     "name": "stderr",
     "output_type": "stream",
     "text": [
      "sbatch: slurm_job_submit: No account set, using default acct: open\n"
     ]
    },
    {
     "name": "stdout",
     "output_type": "stream",
     "text": [
      "Submitted batch job 6886676\n"
     ]
    },
    {
     "name": "stderr",
     "output_type": "stream",
     "text": [
      "sbatch: slurm_job_submit: No account set, using default acct: open\n"
     ]
    },
    {
     "name": "stdout",
     "output_type": "stream",
     "text": [
      "Submitted batch job 6886678\n"
     ]
    },
    {
     "name": "stderr",
     "output_type": "stream",
     "text": [
      "sbatch: slurm_job_submit: No account set, using default acct: open\n"
     ]
    },
    {
     "name": "stdout",
     "output_type": "stream",
     "text": [
      "Submitted batch job 6886680\n"
     ]
    },
    {
     "name": "stderr",
     "output_type": "stream",
     "text": [
      "sbatch: slurm_job_submit: No account set, using default acct: open\n"
     ]
    },
    {
     "name": "stdout",
     "output_type": "stream",
     "text": [
      "Submitted batch job 6886682\n"
     ]
    },
    {
     "name": "stderr",
     "output_type": "stream",
     "text": [
      "sbatch: slurm_job_submit: No account set, using default acct: open\n"
     ]
    },
    {
     "name": "stdout",
     "output_type": "stream",
     "text": [
      "Submitted batch job 6886684\n"
     ]
    },
    {
     "name": "stderr",
     "output_type": "stream",
     "text": [
      "sbatch: slurm_job_submit: No account set, using default acct: open\n"
     ]
    },
    {
     "name": "stdout",
     "output_type": "stream",
     "text": [
      "Submitted batch job 6886686\n"
     ]
    },
    {
     "name": "stderr",
     "output_type": "stream",
     "text": [
      "sbatch: slurm_job_submit: No account set, using default acct: open\n"
     ]
    },
    {
     "name": "stdout",
     "output_type": "stream",
     "text": [
      "Submitted batch job 6886689\n"
     ]
    },
    {
     "name": "stderr",
     "output_type": "stream",
     "text": [
      "sbatch: slurm_job_submit: No account set, using default acct: open\n"
     ]
    },
    {
     "name": "stdout",
     "output_type": "stream",
     "text": [
      "Submitted batch job 6886691\n"
     ]
    },
    {
     "name": "stderr",
     "output_type": "stream",
     "text": [
      "sbatch: slurm_job_submit: No account set, using default acct: open\n"
     ]
    },
    {
     "name": "stdout",
     "output_type": "stream",
     "text": [
      "Submitted batch job 6886694\n"
     ]
    },
    {
     "name": "stderr",
     "output_type": "stream",
     "text": [
      "sbatch: slurm_job_submit: No account set, using default acct: open\n"
     ]
    },
    {
     "name": "stdout",
     "output_type": "stream",
     "text": [
      "Submitted batch job 6886695\n"
     ]
    },
    {
     "name": "stderr",
     "output_type": "stream",
     "text": [
      "sbatch: slurm_job_submit: No account set, using default acct: open\n"
     ]
    },
    {
     "name": "stdout",
     "output_type": "stream",
     "text": [
      "Submitted batch job 6886697\n"
     ]
    },
    {
     "name": "stderr",
     "output_type": "stream",
     "text": [
      "sbatch: slurm_job_submit: No account set, using default acct: open\n"
     ]
    },
    {
     "name": "stdout",
     "output_type": "stream",
     "text": [
      "Submitted batch job 6886699\n"
     ]
    },
    {
     "name": "stderr",
     "output_type": "stream",
     "text": [
      "sbatch: slurm_job_submit: No account set, using default acct: open\n"
     ]
    },
    {
     "name": "stdout",
     "output_type": "stream",
     "text": [
      "Submitted batch job 6886701\n"
     ]
    },
    {
     "name": "stderr",
     "output_type": "stream",
     "text": [
      "sbatch: slurm_job_submit: No account set, using default acct: open\n"
     ]
    },
    {
     "name": "stdout",
     "output_type": "stream",
     "text": [
      "Submitted batch job 6886703\n"
     ]
    },
    {
     "name": "stderr",
     "output_type": "stream",
     "text": [
      "sbatch: slurm_job_submit: No account set, using default acct: open\n"
     ]
    },
    {
     "name": "stdout",
     "output_type": "stream",
     "text": [
      "Submitted batch job 6886705\n"
     ]
    },
    {
     "name": "stderr",
     "output_type": "stream",
     "text": [
      "sbatch: slurm_job_submit: No account set, using default acct: open\n"
     ]
    },
    {
     "name": "stdout",
     "output_type": "stream",
     "text": [
      "Submitted batch job 6886707\n"
     ]
    },
    {
     "name": "stderr",
     "output_type": "stream",
     "text": [
      "sbatch: slurm_job_submit: No account set, using default acct: open\n"
     ]
    },
    {
     "name": "stdout",
     "output_type": "stream",
     "text": [
      "Submitted batch job 6886709\n"
     ]
    },
    {
     "name": "stderr",
     "output_type": "stream",
     "text": [
      "sbatch: slurm_job_submit: No account set, using default acct: open\n"
     ]
    },
    {
     "name": "stdout",
     "output_type": "stream",
     "text": [
      "Submitted batch job 6886711\n"
     ]
    },
    {
     "name": "stderr",
     "output_type": "stream",
     "text": [
      "sbatch: slurm_job_submit: No account set, using default acct: open\n"
     ]
    },
    {
     "name": "stdout",
     "output_type": "stream",
     "text": [
      "Submitted batch job 6886713\n"
     ]
    },
    {
     "name": "stderr",
     "output_type": "stream",
     "text": [
      "sbatch: slurm_job_submit: No account set, using default acct: open\n"
     ]
    },
    {
     "name": "stdout",
     "output_type": "stream",
     "text": [
      "Submitted batch job 6886714\n"
     ]
    },
    {
     "name": "stderr",
     "output_type": "stream",
     "text": [
      "sbatch: slurm_job_submit: No account set, using default acct: open\n"
     ]
    },
    {
     "name": "stdout",
     "output_type": "stream",
     "text": [
      "Submitted batch job 6886717\n"
     ]
    },
    {
     "name": "stderr",
     "output_type": "stream",
     "text": [
      "sbatch: slurm_job_submit: No account set, using default acct: open\n"
     ]
    },
    {
     "name": "stdout",
     "output_type": "stream",
     "text": [
      "Submitted batch job 6886719\n"
     ]
    },
    {
     "name": "stderr",
     "output_type": "stream",
     "text": [
      "sbatch: slurm_job_submit: No account set, using default acct: open\n"
     ]
    },
    {
     "name": "stdout",
     "output_type": "stream",
     "text": [
      "Submitted batch job 6886721\n"
     ]
    },
    {
     "name": "stderr",
     "output_type": "stream",
     "text": [
      "sbatch: slurm_job_submit: No account set, using default acct: open\n"
     ]
    },
    {
     "name": "stdout",
     "output_type": "stream",
     "text": [
      "Submitted batch job 6886723\n",
      "#!/bin/bash\n",
      "#SBATCH --nodes=1\n",
      "#SBATCH --ntasks=1\n",
      "#SBATCH --mem=12GB\n",
      "#SBATCH --time=12:00:00\n",
      "#SBATCH --job-name=trimgalore\n",
      "\n",
      "cd ~\n",
      "source ~/.bashrc\n",
      "conda activate deseq2\n",
      "\n",
      "mkdir -p ~/scratch/acer/header_fix\n",
      "\n",
      "zcat ~/scratch/acer/trimmed/SRR8801492_trimmed.fq.gz \\\n",
      "    | sed '/^@SRR/ s/ .*//g' | sed '/^@SRR/ s/\\.//g' | sed '/^@SRR/ s/$/\\/1/' | sed '/^+SRR/ s/+SRR.*/+/' \\\n",
      "    | gzip > ~/scratch/acer/header_fix/SRR8801492_trimmed.fq.gz\n"
     ]
    }
   ],
   "source": [
    "%%bash\n",
    "cd /storage/group/ibb3/default/acer_cnat_dcyl_ssid_assembly/\n",
    "for seq in $( ls ~/scratch/acer/trimmed/${i}/ | grep \"trimmed\" ); do\n",
    "    SEQ=$( echo ${seq} | cut -d\"_\" -f1 | uniq )\n",
    "    cat fix_fastq_headers_single.sh | sed \"s/tmpfile/${seq}/g\" \\\n",
    "        | sed \"s/tmpspot/${SEQ}/g\" > ./tmp.sh\n",
    "    sbatch ./tmp.sh\n",
    "done\n",
    "cat ./tmp.sh"
   ]
  },
  {
   "cell_type": "markdown",
   "id": "768c7a27",
   "metadata": {},
   "source": [
    "We need to remove mitochondrial contigs before proceeding with Funannotate. We used mitofinder (below) but we didn't find any mitochondrial contigs."
   ]
  },
  {
   "cell_type": "code",
   "execution_count": null,
   "id": "6f681bdd",
   "metadata": {},
   "outputs": [],
   "source": [
    "%%bash\n",
    "source ~/.bashrc\n",
    "conda activate mitofinder\n",
    "for i in acer; do\n",
    "    cd /storage/group/ibb3/default/acer_cnat_dcyl_ssid_assembly/funannotate_annotation\n",
    "    mitofinder \\\n",
    "        -j ${i}_mitofinder -a /storage/group/ibb3/default/acer_cnat_dcyl_ssid_assembly/*_assembly/${i}*/${i}_draft.fa -t trnascan \\\n",
    "        -r /storage/group/ibb3/default/acer_cnat_dcyl_ssid_assembly/reference.gb -o 5\n",
    "done"
   ]
  },
  {
   "cell_type": "markdown",
   "id": "6ac100cd",
   "metadata": {},
   "source": [
    "Now we can proceed with training:"
   ]
  },
  {
   "cell_type": "code",
   "execution_count": 28,
   "id": "fba3858d",
   "metadata": {
    "scrolled": true
   },
   "outputs": [
    {
     "name": "stderr",
     "output_type": "stream",
     "text": [
      "sbatch: slurm_job_submit: No account set, using default acct: open\n"
     ]
    },
    {
     "name": "stdout",
     "output_type": "stream",
     "text": [
      "Submitted batch job 6888143\n",
      "#!/bin/bash\n",
      "#SBATCH --nodes=1\n",
      "#SBATCH --ntasks=20\n",
      "#SBATCH --mem=350GB\n",
      "#SBATCH --time=48:00:00\n",
      "#SBATCH --job-name=funan\n",
      "\n",
      "source ~/.bashrc\n",
      "conda activate funannotate\n",
      "cd /storage/group/ibb3/default/acer_cnat_dcyl_ssid_assembly/funannotate_annotation/\n",
      "mkdir -p ./acer_lepwrap_annotation\n",
      "funannotate train \\\n",
      "\t-i /storage/group/ibb3/default/acer_cnat_dcyl_ssid_assembly/acer_linkage_scaffolding/lepwrap_denovo2/12_Fasta/Anchored.scaffolds.len_renamed_sorted.fa \\\n",
      "\t-o ./acer_lepwrap_annotation \\\n",
      "\t--single /storage/home/nsl5160/scratch/acer/header_fix/*.fq.gz \\\n",
      "\t--memory 350G \\\n",
      "\t--no_trimmomatic \\\n",
      "\t--pasa_db mysql \\\n",
      "\t--max_intronlen 100000 \\\n",
      "\t--species \"Acropora cervicornis\" \\\n",
      "\t--cpus 20\n"
     ]
    }
   ],
   "source": [
    "%%bash\n",
    "cd /storage/group/ibb3/default/acer_cnat_dcyl_ssid_assembly/\n",
    "sbatch funannotate_train_lepwrap.sh\n",
    "cat funannotate_train_lepwrap.sh"
   ]
  },
  {
   "cell_type": "markdown",
   "id": "31f17130",
   "metadata": {},
   "source": [
    "For the prediction step, we'll inject 3 additional lines of evidence. These are, A) the original assembly's transcript, B) Cornelia Osborne's Belize A. cervicornis transcriptome, and C) the transcripts from Selwyn and Vollmer's genome (https://academic.oup.com/g3journal/advance-article/doi/10.1093/g3journal/jkad232/7296043). "
   ]
  },
  {
   "cell_type": "code",
   "execution_count": 3,
   "id": "bdb9ddec",
   "metadata": {},
   "outputs": [
    {
     "name": "stdout",
     "output_type": "stream",
     "text": [
      "Using standard /storage/group/ibb3/default/.conda/envs/assembly/lib/perl5/site_perl/auto/share/dist/AGAT/config.yaml file\n",
      "We will extract the exon sequences.\n",
      "Reading file /storage/group/ibb3/default/genome_annotation/Acerv_assemblies/Acerv_assembly_v1.0_200415.gff3\n",
      "********************************************************************************\n",
      "*                              - Start parsing -                               *\n",
      "********************************************************************************\n",
      "-------------------------- parse options and metadata --------------------------\n",
      "=> Accessing the feature_levels YAML file\n",
      "Using standard /storage/group/ibb3/default/.conda/envs/assembly/lib/perl5/site_perl/auto/share/dist/AGAT/feature_levels.yaml file\n",
      "=> Attribute used to group features when no Parent/ID relationship exists (i.e common tag):\n",
      "\t* locus_tag\n",
      "\t* gene_id\n",
      "=> merge_loci option deactivated\n",
      "=> Machine information:\n",
      "\tThis script is being run by perl v5.32.1\n",
      "\tBioperl location being used: /storage/group/ibb3/default/.conda/envs/assembly/lib/perl5/site_perl/Bio/\n",
      "\tOperating system being used: linux \n",
      "=> Accessing Ontology\n",
      "\tNo ontology accessible from the gff file header!\n",
      "\tWe use the SOFA ontology distributed with AGAT:\n",
      "\t\t/storage/group/ibb3/default/.conda/envs/assembly/lib/perl5/site_perl/auto/share/dist/AGAT/so.obo\n",
      "\tRead ontology /storage/group/ibb3/default/.conda/envs/assembly/lib/perl5/site_perl/auto/share/dist/AGAT/so.obo:\n",
      "\t\t4 root terms, and 2596 total terms, and 1516 leaf terms\n",
      "\tFiltering ontology:\n",
      "\t\tWe found 1861 terms that are sequence_feature or is_a child of it.\n",
      "--------------------------------- parsing file ---------------------------------\n",
      "=> Number of line in file: 519317\n",
      "=> Number of comment lines: 0\n",
      "=> Fasta included: No\n",
      "=> Number of features lines: 519317\n",
      "=> Number of feature type (3rd column): 9\n",
      "\t* Level1: 1 => gene\n",
      "\t* level2: 2 => tRNA mRNA\n",
      "\t* level3: 6 => start_codon five_prime_UTR stop_codon CDS three_prime_UTR exon\n",
      "\t* unknown: 0 => \n",
      "=> Version of the Bioperl GFF parser selected by AGAT: 3\n",
      "********************************************************************************\n",
      "*                               - End parsing -                                *\n",
      "*                              done in 69 seconds                              *\n",
      "********************************************************************************\n",
      "\n",
      "********************************************************************************\n",
      "*                               - Start checks -                               *\n",
      "********************************************************************************\n",
      "---------------------------- Check1: feature types -----------------------------\n",
      "----------------------------------- ontology -----------------------------------\n",
      "All feature types in agreement with the Ontology.\n",
      "------------------------------------- agat -------------------------------------\n",
      "AGAT can deal with all the encountered feature types (3rd column)\n",
      "------------------------------ done in 0 seconds -------------------------------\n",
      "\n",
      "------------------------------ Check2: duplicates ------------------------------\n",
      "None found\n",
      "------------------------------ done in 0 seconds -------------------------------\n",
      "\n",
      "-------------------------- Check3: sequential bucket ---------------------------\n",
      "Nothing to check as sequential bucket!\n",
      "------------------------------ done in 0 seconds -------------------------------\n",
      "\n",
      "--------------------------- Check4: l2 linked to l3 ----------------------------\n",
      "No problem found\n",
      "------------------------------ done in 0 seconds -------------------------------\n",
      "\n",
      "--------------------------- Check5: l1 linked to l2 ----------------------------\n",
      "No problem found\n",
      "------------------------------ done in 1 seconds -------------------------------\n",
      "\n",
      "--------------------------- Check6: remove orphan l1 ---------------------------\n",
      "We remove only those not supposed to be orphan\n",
      "None found\n",
      "------------------------------ done in 0 seconds -------------------------------\n",
      "\n",
      "------------------------- Check7: all level3 locations -------------------------\n",
      "------------------------------ done in 6 seconds -------------------------------\n",
      "\n",
      "------------------------------ Check8: check cds -------------------------------\n",
      "No problem found\n",
      "------------------------------ done in 1 seconds -------------------------------\n",
      "\n",
      "----------------------------- Check9: check exons ------------------------------\n",
      "611 exons created that were missing\n",
      "300 exons locations modified that were wrong\n",
      "No supernumerary exons removed\n",
      "550 level2 locations modified\n",
      "------------------------------ done in 9 seconds -------------------------------\n",
      "\n",
      "----------------------------- Check10: check utrs ------------------------------\n",
      "1114 UTRs created that were missing\n",
      "486 UTRs locations modified that were wrong\n",
      "No supernumerary UTRs removed\n",
      "------------------------------ done in 4 seconds -------------------------------\n",
      "\n",
      "------------------------ Check11: all level2 locations -------------------------\n",
      "We fixed 3 wrong level2 location cases\n",
      "------------------------------ done in 8 seconds -------------------------------\n",
      "\n",
      "------------------------ Check12: all level1 locations -------------------------\n",
      "We fixed 550 wrong level1 location cases\n",
      "------------------------------ done in 0 seconds -------------------------------\n",
      "\n",
      "---------------------- Check13: remove identical isoforms ----------------------\n",
      "None found\n",
      "------------------------------ done in 0 seconds -------------------------------\n",
      "********************************************************************************\n",
      "*                                - End checks -                                *\n",
      "*                              done in 29 seconds                              *\n",
      "********************************************************************************\n",
      "\n",
      "=> OmniscientI total time: 98 seconds\n",
      "Parsing Finished\n",
      "Fasta file parsed\n",
      "usage: /storage/group/ibb3/default/.conda/envs/assembly/bin/agat_sp_extract_sequences.pl --gff /storage/group/ibb3/default/genome_annotation/Acerv_assemblies/Acerv_assembly_v1.0_200415.gff3 --fasta /storage/group/ibb3/default/genome_annotation/Acerv_assemblies/Acerv_assembly_v1.0_171209.fasta --mrna -o /storage/group/ibb3/default/acer_cnat_dcyl_ssid_assembly/references/transcriptome_resources/sheila.fa\n",
      "33746 exon converted in fasta.\n",
      "Job done in 119 seconds\n"
     ]
    }
   ],
   "source": [
    "%%bash\n",
    "source ~/.bashrc\n",
    "conda activate assembly\n",
    "agat_sp_extract_sequences.pl \\\n",
    "    --gff /storage/group/ibb3/default/genome_annotation/Acerv_assemblies/Acerv_assembly_v1.0_200415.gff3 \\\n",
    "    --fasta /storage/group/ibb3/default/genome_annotation/Acerv_assemblies/Acerv_assembly_v1.0_171209.fasta \\\n",
    "    --mrna -o /storage/group/ibb3/default/acer_cnat_dcyl_ssid_assembly/references/transcriptome_resources/sheila.fa"
   ]
  },
  {
   "cell_type": "code",
   "execution_count": 7,
   "id": "a85dc449",
   "metadata": {},
   "outputs": [
    {
     "name": "stdout",
     "output_type": "stream",
     "text": [
      "Using standard /storage/group/ibb3/default/.conda/envs/assembly/lib/perl5/site_perl/auto/share/dist/AGAT/config.yaml file\n",
      "We will extract the exon sequences.\n",
      "Reading file /storage/group/ibb3/default/acer_cnat_dcyl_ssid_assembly/references/GCA_032359415.1_NEU_Acer_K2_genomic.gff\n",
      "********************************************************************************\n",
      "*                              - Start parsing -                               *\n",
      "********************************************************************************\n",
      "-------------------------- parse options and metadata --------------------------\n",
      "=> Accessing the feature_levels YAML file\n",
      "Using standard /storage/group/ibb3/default/.conda/envs/assembly/lib/perl5/site_perl/auto/share/dist/AGAT/feature_levels.yaml file\n",
      "=> Attribute used to group features when no Parent/ID relationship exists (i.e common tag):\n",
      "\t* locus_tag\n",
      "\t* gene_id\n",
      "=> merge_loci option deactivated\n",
      "=> Machine information:\n",
      "\tThis script is being run by perl v5.32.1\n",
      "\tBioperl location being used: /storage/group/ibb3/default/.conda/envs/assembly/lib/perl5/site_perl/Bio/\n",
      "\tOperating system being used: linux \n",
      "=> Accessing Ontology\n",
      "\tNo ontology accessible from the gff file header!\n",
      "\tWe use the SOFA ontology distributed with AGAT:\n",
      "\t\t/storage/group/ibb3/default/.conda/envs/assembly/lib/perl5/site_perl/auto/share/dist/AGAT/so.obo\n",
      "\tRead ontology /storage/group/ibb3/default/.conda/envs/assembly/lib/perl5/site_perl/auto/share/dist/AGAT/so.obo:\n",
      "\t\t4 root terms, and 2596 total terms, and 1516 leaf terms\n",
      "\tFiltering ontology:\n",
      "\t\tWe found 1861 terms that are sequence_feature or is_a child of it.\n",
      "--------------------------------- parsing file ---------------------------------\n",
      "=> Number of line in file: 422342\n",
      "=> Number of comment lines: 802\n",
      "=> Fasta included: No\n",
      "=> Number of features lines: 421540\n",
      "=> Number of feature type (3rd column): 7\n",
      "\t* Level1: 3 => pseudogene region gene\n",
      "\t* level2: 2 => mRNA tRNA\n",
      "\t* level3: 2 => exon CDS\n",
      "\t* unknown: 0 => \n",
      "=> Version of the Bioperl GFF parser selected by AGAT: 3\n",
      "********************************************************************************\n",
      "*                               - End parsing -                                *\n",
      "*                              done in 72 seconds                              *\n",
      "********************************************************************************\n",
      "\n",
      "********************************************************************************\n",
      "*                               - Start checks -                               *\n",
      "********************************************************************************\n",
      "---------------------------- Check1: feature types -----------------------------\n",
      "----------------------------------- ontology -----------------------------------\n",
      "All feature types in agreement with the Ontology.\n",
      "------------------------------------- agat -------------------------------------\n",
      "AGAT can deal with all the encountered feature types (3rd column)\n",
      "------------------------------ done in 0 seconds -------------------------------\n",
      "\n",
      "------------------------------ Check2: duplicates ------------------------------\n",
      "None found\n",
      "------------------------------ done in 0 seconds -------------------------------\n",
      "\n",
      "-------------------------- Check3: sequential bucket ---------------------------\n",
      "None found\n",
      "------------------------------ done in 3 seconds -------------------------------\n",
      "\n",
      "--------------------------- Check4: l2 linked to l3 ----------------------------\n",
      "No problem found\n",
      "------------------------------ done in 0 seconds -------------------------------\n",
      "\n",
      "--------------------------- Check5: l1 linked to l2 ----------------------------\n",
      "No problem found\n",
      "------------------------------ done in 0 seconds -------------------------------\n",
      "\n",
      "--------------------------- Check6: remove orphan l1 ---------------------------\n",
      "We remove only those not supposed to be orphan\n",
      "None found\n",
      "------------------------------ done in 1 seconds -------------------------------\n",
      "\n",
      "------------------------- Check7: all level3 locations -------------------------\n",
      "------------------------------ done in 5 seconds -------------------------------\n",
      "\n",
      "------------------------------ Check8: check cds -------------------------------\n",
      "No problem found\n",
      "------------------------------ done in 0 seconds -------------------------------\n",
      "\n",
      "----------------------------- Check9: check exons ------------------------------\n",
      "No exons created\n",
      "No exons locations modified\n",
      "No supernumerary exons removed\n",
      "No level2 locations modified\n",
      "------------------------------ done in 8 seconds -------------------------------\n",
      "\n",
      "----------------------------- Check10: check utrs ------------------------------\n",
      "22700 UTRs created that were missing\n",
      "No UTRs locations modified\n",
      "No supernumerary UTRs removed\n",
      "------------------------------ done in 7 seconds -------------------------------\n",
      "\n",
      "------------------------ Check11: all level2 locations -------------------------\n",
      "No problem found\n",
      "------------------------------ done in 8 seconds -------------------------------\n",
      "\n",
      "------------------------ Check12: all level1 locations -------------------------\n",
      "No problem found\n",
      "------------------------------ done in 1 seconds -------------------------------\n",
      "\n",
      "---------------------- Check13: remove identical isoforms ----------------------\n",
      "None found\n",
      "------------------------------ done in 0 seconds -------------------------------\n",
      "********************************************************************************\n",
      "*                                - End checks -                                *\n",
      "*                              done in 33 seconds                              *\n",
      "********************************************************************************\n",
      "\n",
      "=> OmniscientI total time: 105 seconds\n",
      "Parsing Finished\n",
      "Fasta file parsed\n",
      "usage: /storage/group/ibb3/default/.conda/envs/assembly/bin/agat_sp_extract_sequences.pl --gff /storage/group/ibb3/default/acer_cnat_dcyl_ssid_assembly/references/GCA_032359415.1_NEU_Acer_K2_genomic.gff --fasta /storage/group/ibb3/default/acer_cnat_dcyl_ssid_assembly/references/GCA_032359415.1_NEU_Acer_K2_genomic.fna --mrna -o /storage/group/ibb3/default/acer_cnat_dcyl_ssid_assembly/references/transcriptome_resources/vollmer.fa\n",
      "33794 exon converted in fasta.\n",
      "Job done in 147 seconds\n"
     ]
    }
   ],
   "source": [
    "%%bash\n",
    "source ~/.bashrc\n",
    "conda activate assembly\n",
    "agat_sp_extract_sequences.pl \\\n",
    "    --gff /storage/group/ibb3/default/acer_cnat_dcyl_ssid_assembly/references/GCA_032359415.1_NEU_Acer_K2_genomic.gff \\\n",
    "    --fasta /storage/group/ibb3/default/acer_cnat_dcyl_ssid_assembly/references/GCA_032359415.1_NEU_Acer_K2_genomic.fna \\\n",
    "    --mrna -o /storage/group/ibb3/default/acer_cnat_dcyl_ssid_assembly/references/transcriptome_resources/vollmer.fa"
   ]
  },
  {
   "cell_type": "code",
   "execution_count": 9,
   "id": "b1d41264",
   "metadata": {},
   "outputs": [],
   "source": [
    "%%bash\n",
    "ln -s /storage/group/ibb3/default/acer_cnat_dcyl_ssid_assembly/references/transcriptome_resources/Osborne2023_Acervicornis_transcriptome.fasta \\\n",
    "    /storage/group/ibb3/default/acer_cnat_dcyl_ssid_assembly/funannotate_annotation/osborne.fa\n",
    "ln -s /storage/group/ibb3/default/acer_cnat_dcyl_ssid_assembly/references/transcriptome_resources/sheila.fa \\\n",
    "    /storage/group/ibb3/default/acer_cnat_dcyl_ssid_assembly/funannotate_annotation/sheila.fa\n",
    "ln -s /storage/group/ibb3/default/acer_cnat_dcyl_ssid_assembly/references/transcriptome_resources/vollmer.fa \\\n",
    "    /storage/group/ibb3/default/acer_cnat_dcyl_ssid_assembly/funannotate_annotation/vollmer.fa"
   ]
  },
  {
   "cell_type": "code",
   "execution_count": 12,
   "id": "348e7a6b",
   "metadata": {},
   "outputs": [
    {
     "name": "stderr",
     "output_type": "stream",
     "text": [
      "sbatch: slurm_job_submit: No account set, using default acct: open\n"
     ]
    },
    {
     "name": "stdout",
     "output_type": "stream",
     "text": [
      "Submitted batch job 6937190\n",
      "#!/bin/bash\n",
      "#SBATCH --nodes=1\n",
      "#SBATCH --ntasks=30\n",
      "#SBATCH --mem=400GB\n",
      "#SBATCH --time=48:00:00\n",
      "#SBATCH --job-name=funan\n",
      "\n",
      "source ~/.bashrc\n",
      "conda activate funannotate_aug34\n",
      "cd /storage/group/ibb3/default/acer_cnat_dcyl_ssid_assembly/funannotate_annotation/\n",
      "\n",
      "funannotate predict \\\n",
      "    -i /storage/group/ibb3/default/acer_cnat_dcyl_ssid_assembly/acer_linkage_scaffolding/lepwrap_denovo2/12_Fasta/Anchored.scaffolds.len_renamed_sorted.fa \\\n",
      "    -o ./acer_lepwrap_annotation \\\n",
      "    --species \"Acropora cervicornis\" \\\n",
      "    --repeats2evm \\\n",
      "    --transcript_evidence osborne.fa sheila.fa vollmer.fa \\\n",
      "    --organism other \\\n",
      "    --max_intronlen 100000 \\\n",
      "    --busco_db metazoa \\\n",
      "    --GENEMARK_PATH /storage/group/ibb3/default/acer_cnat_dcyl_ssid_assembly/gmes_linux_64_4 \\\n",
      "    --cpus 30 \n"
     ]
    }
   ],
   "source": [
    "%%bash\n",
    "cd /storage/group/ibb3/default/acer_cnat_dcyl_ssid_assembly/\n",
    "sbatch funannotate_predict_lepwrap.sh\n",
    "cat funannotate_predict_lepwrap.sh"
   ]
  },
  {
   "cell_type": "code",
   "execution_count": 1,
   "id": "577dda12",
   "metadata": {},
   "outputs": [
    {
     "name": "stderr",
     "output_type": "stream",
     "text": [
      "sbatch: slurm_job_submit: No account set, using default acct: open\n"
     ]
    },
    {
     "name": "stdout",
     "output_type": "stream",
     "text": [
      "Submitted batch job 6955133\n",
      "#!/bin/bash\n",
      "#SBATCH --nodes=1\n",
      "#SBATCH --ntasks=20\n",
      "#SBATCH --mem=256GB\n",
      "#SBATCH --time=48:00:00\n",
      "#SBATCH --job-name=funan\n",
      "\n",
      "source ~/.bashrc\n",
      "conda activate funannotate_fixed\n",
      "cd /storage/group/ibb3/default/acer_cnat_dcyl_ssid_assembly/funannotate_annotation/\n",
      "\n",
      "funannotate update \\\n",
      "    -i ./acer_lepwrap_annotation \\\n",
      "    --cpus 20 \\\n",
      "    --memory 250G \\\n",
      "    --pasa_db mysql \\\n",
      "    --max_intronlen 100000 \\\n",
      "    --PASAHOME /storage/group/ibb3/default/.conda/envs/funannotate/opt/pasa-2.5.2/\n"
     ]
    }
   ],
   "source": [
    "%%bash\n",
    "cd /storage/group/ibb3/default/acer_cnat_dcyl_ssid_assembly/\n",
    "sbatch funannotate_update_lepwrap.sh\n",
    "cat funannotate_update_lepwrap.sh"
   ]
  },
  {
   "cell_type": "code",
   "execution_count": 3,
   "id": "1cf28d48",
   "metadata": {},
   "outputs": [
    {
     "name": "stderr",
     "output_type": "stream",
     "text": [
      "[Nov 14 09:30 AM]: OS: Red Hat Enterprise Linux 8.8, 24 cores, ~ 264 GB RAM. Python: 3.8.13\n",
      "[Nov 14 09:30 AM]: Running 1.8.15\n",
      "[Nov 14 09:31 AM]: Extracting genome sequence and parsing meta information\n",
      "[Nov 14 09:31 AM]: 3,308 contigs containing 34,018 protein coding genes and 2,442 tRNA genes\n",
      "[Nov 14 09:31 AM]: Found pre-existing funannotate files, archiving to ./acer_lepwrap_annotation/update_results/archive_64258cf4-ae0c-44b3-8702-58faf1c7a2a6\n",
      "[Nov 14 09:31 AM]: Converting to GenBank format\n",
      "[Nov 14 09:36 AM]: Generating output files.\n",
      "[Nov 14 09:37 AM]: Output genome consists of: 3,308 contigs containing 34,013 protein coding genes and 2,442 tRNA genes\n"
     ]
    },
    {
     "name": "stdout",
     "output_type": "stream",
     "text": [
      "-------------------------------------------------------\n"
     ]
    }
   ],
   "source": [
    "%%bash\n",
    "source ~/.bashrc\n",
    "conda activate funannotate\n",
    "cd /storage/group/ibb3/default/acer_cnat_dcyl_ssid_assembly/funannotate_annotation/\n",
    "cat ./acer_lepwrap_annotation/update_results/Acropora_cervicornis.models-need-fixing.txt \\\n",
    "            | tail -n+2 | cut -f1 \\\n",
    "            > ./acer_lepwrap_annotation/update_results/drop_loci.txt\n",
    "\n",
    "funannotate fix \\\n",
    "    -i ./acer_lepwrap_annotation/update_results/Acropora_cervicornis.gbk \\\n",
    "    -t ./acer_lepwrap_annotation/update_results/Acropora_cervicornis.tbl \\\n",
    "    -d ./acer_lepwrap_annotation/update_results/drop_loci.txt"
   ]
  },
  {
   "cell_type": "code",
   "execution_count": 12,
   "id": "270f1c07",
   "metadata": {},
   "outputs": [
    {
     "name": "stderr",
     "output_type": "stream",
     "text": [
      "sbatch: slurm_job_submit: No account set, using default acct: open\n"
     ]
    },
    {
     "name": "stdout",
     "output_type": "stream",
     "text": [
      "Submitted batch job 6973466\n",
      "#!/bin/bash\n",
      "#SBATCH --nodes=1\n",
      "#SBATCH --ntasks=48\n",
      "#SBATCH --mem=256GB\n",
      "#SBATCH --time=48:00:00\n",
      "#SBATCH --job-name=funan\n",
      "\n",
      "source ~/.bashrc\n",
      "conda activate funannotate\n",
      "cd /storage/group/ibb3/default/acer_cnat_dcyl_ssid_assembly/funannotate_annotation/\n",
      "\n",
      "funannotate iprscan \\\n",
      "    -i ./acer_lepwrap_annotation \\\n",
      "    --method local \\\n",
      "    --out /storage/group/ibb3/default/acer_cnat_dcyl_ssid_assembly/funannotate_annotation/Acropora_cervicornis.proteins.fa.xml \\\n",
      "    --iprscan_path /storage/home/nsl5160/scratch/interpro/interproscan-5.65-97.0/interproscan.sh \\\n",
      "    --cpus 48\n"
     ]
    }
   ],
   "source": [
    "%%bash\n",
    "cd /storage/group/ibb3/default/acer_cnat_dcyl_ssid_assembly/\n",
    "sbatch funannotate_iprscan_lepwrap.sh\n",
    "cat funannotate_iprscan_lepwrap.sh"
   ]
  },
  {
   "cell_type": "code",
   "execution_count": 13,
   "id": "4f980a7a",
   "metadata": {},
   "outputs": [
    {
     "name": "stderr",
     "output_type": "stream",
     "text": [
      "sbatch: slurm_job_submit: No account set, using default acct: open\n"
     ]
    },
    {
     "name": "stdout",
     "output_type": "stream",
     "text": [
      "Submitted batch job 6975201\n",
      "#!/bin/bash\n",
      "#SBATCH --nodes=1\n",
      "#SBATCH --ntasks=40\n",
      "#SBATCH --mem=256GB\n",
      "#SBATCH --time=12:00:00\n",
      "#SBATCH --job-name=funan\n",
      "\n",
      "source ~/.bashrc\n",
      "conda activate funannotate\n",
      "cd /storage/group/ibb3/default/acer_cnat_dcyl_ssid_assembly/funannotate_annotation/\n",
      "\n",
      "export EGGNOG_DATA_DIR=/storage/group/ibb3/default/acer_cnat_dcyl_ssid_assembly/eggnog-map/data\n",
      "\n",
      "funannotate annotate \\\n",
      "    -i ./acer_lepwrap_annotation \\\n",
      "    --iprscan /storage/group/ibb3/default/acer_cnat_dcyl_ssid_assembly/funannotate_annotation/Acropora_cervicornis.proteins.fa.xml \\\n",
      "    --cpus 40 \\\n",
      "    --sbt /storage/group/ibb3/default/acer_cnat_dcyl_ssid_assembly/acer.sbt\n",
      "    --busco_db metazoa\n"
     ]
    }
   ],
   "source": [
    "%%bash\n",
    "cd /storage/group/ibb3/default/acer_cnat_dcyl_ssid_assembly/\n",
    "sbatch funannotate_annotate_lepwrap.sh\n",
    "cat funannotate_annotate_lepwrap.sh"
   ]
  }
 ],
 "metadata": {
  "kernelspec": {
   "display_name": "NetworkX",
   "language": "python",
   "name": "networkx"
  },
  "language_info": {
   "codemirror_mode": {
    "name": "ipython",
    "version": 3
   },
   "file_extension": ".py",
   "mimetype": "text/x-python",
   "name": "python",
   "nbconvert_exporter": "python",
   "pygments_lexer": "ipython3",
   "version": "3.11.0"
  }
 },
 "nbformat": 4,
 "nbformat_minor": 5
}
