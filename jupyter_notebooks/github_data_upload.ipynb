{
 "cells": [
  {
   "cell_type": "code",
   "execution_count": 3,
   "id": "33e0aaca",
   "metadata": {},
   "outputs": [],
   "source": [
    "!mkdir -p ../resources"
   ]
  },
  {
   "cell_type": "code",
   "execution_count": 7,
   "id": "0eb0b9e8",
   "metadata": {},
   "outputs": [],
   "source": [
    "!cp ../plink_format_maps/* ../resources"
   ]
  },
  {
   "cell_type": "code",
   "execution_count": 30,
   "id": "5eeb1524",
   "metadata": {},
   "outputs": [],
   "source": [
    "!cp ../funannotate_annotation/acer_lepwrap_annotation/predict_results/Acropora_cervicornis.scaffolds.fa ../resources/Acervicornis.fa"
   ]
  },
  {
   "cell_type": "code",
   "execution_count": 17,
   "id": "6700a78f",
   "metadata": {},
   "outputs": [],
   "source": [
    "!cp ../funannotate_annotation/acer_lepwrap_annotation/annotate_results/Acropora_cervicornis.annotations.txt ../resources/Acervicornis.annotations.txt"
   ]
  },
  {
   "cell_type": "code",
   "execution_count": 18,
   "id": "d272ba57",
   "metadata": {},
   "outputs": [],
   "source": [
    "!cp ../funannotate_annotation/acer_lepwrap_annotation/annotate_results/Acropora_cervicornis.gff3 ../resources/Acervicornis.gff3"
   ]
  },
  {
   "cell_type": "code",
   "execution_count": 48,
   "id": "e2a8cc70",
   "metadata": {},
   "outputs": [],
   "source": [
    "!cp ../acer_repeats/acer_final_softmasked/Acervicornis.repeatmask.bed \\\n",
    "    ../resources/Acervicornis.repeatmask.bed"
   ]
  },
  {
   "cell_type": "code",
   "execution_count": 23,
   "id": "78b11a50",
   "metadata": {},
   "outputs": [],
   "source": [
    "!cp ../../AP_AC_genome_seqs/dovetail_Apalm/HiC_improvement/Apalm_assembly_v3.0_200415.masked.fa \\\n",
    "    ../resources/Apalmata.fa"
   ]
  },
  {
   "cell_type": "code",
   "execution_count": 24,
   "id": "3220ad6a",
   "metadata": {},
   "outputs": [],
   "source": [
    "!cp ../../AP_AC_genome_seqs/dovetail_Apalm/HiC_improvement/Apalm_assembly_v3.0_200415.gff3 \\\n",
    "    ../resources/Apalmata.gff3"
   ]
  },
  {
   "cell_type": "code",
   "execution_count": 25,
   "id": "6d38582c",
   "metadata": {},
   "outputs": [],
   "source": [
    "!cp ../../AP_AC_genome_seqs/dovetail_Apalm/HiC_improvement/APdov_v3.1_GeneAnnotation_combined.txt \\\n",
    "    ../resources/Apalmata.annotations.txt"
   ]
  },
  {
   "cell_type": "code",
   "execution_count": 40,
   "id": "f671974d",
   "metadata": {},
   "outputs": [],
   "source": [
    "!cp ../../AP_AC_genome_seqs/dovetail_Apalm/HiC_improvement/Apalm_assembly_v3.0_200415.repeats.bed \\\n",
    "    ../resources/Apalmata.repeatmask.bed"
   ]
  },
  {
   "cell_type": "code",
   "execution_count": 49,
   "id": "fe94e9af",
   "metadata": {},
   "outputs": [
    {
     "name": "stdout",
     "output_type": "stream",
     "text": [
      "total 1.2G\r\n",
      "-rw-rw-r-- 1 nsl5160 ibb3_collab 356M Jun 17 14:13 Acervicornis.annotations.txt\r\n",
      "-rw-rw-r-- 1 nsl5160 ibb3_collab 296M Jun 17 14:21 Acervicornis.fa\r\n",
      "-rw-rw-r-- 1 nsl5160 ibb3_collab  49M Jun 17 14:13 Acervicornis.gff3\r\n",
      "-rw-rw-r-- 1 nsl5160 ibb3_collab  37M Jun 17 16:07 Acervicornis.repeatmask.bed\r\n",
      "-rw-rw-r-- 1 nsl5160 ibb3_collab 149K Jun 17 13:59 Acervicornis_FEMALE.map\r\n",
      "-rw-rw-r-- 1 nsl5160 ibb3_collab 150K Jun 17 13:59 Acervicornis_MALE.map\r\n",
      "-rw-rw-r-- 1 nsl5160 ibb3_collab 152K Jun 17 13:59 Acervicornis_SEXAVG.map\r\n",
      "-rw-r--r-- 1 nsl5160 ibb3_collab  18M Jun 17 14:17 Apalmata.annotations.txt\r\n",
      "-rw-r--r-- 1 nsl5160 ibb3_collab 280M Jun 17 14:16 Apalmata.fa\r\n",
      "-rw-r--r-- 1 nsl5160 ibb3_collab  73M Jun 17 14:17 Apalmata.gff3\r\n",
      "-rw-r--r-- 1 nsl5160 ibb3_collab  27M Jun 17 14:57 Apalmata.repeatmask.bed\r\n",
      "-rw-rw-r-- 1 nsl5160 ibb3_collab 108K Jun 17 13:59 Apalmata_FEMALE.map\r\n",
      "-rw-rw-r-- 1 nsl5160 ibb3_collab 110K Jun 17 13:59 Apalmata_MALE.map\r\n",
      "-rw-rw-r-- 1 nsl5160 ibb3_collab 108K Jun 17 13:59 Apalmata_SEXAVG.map\r\n"
     ]
    }
   ],
   "source": [
    "!ls -lh ../resources"
   ]
  }
 ],
 "metadata": {
  "kernelspec": {
   "display_name": "Masters Env",
   "language": "python",
   "name": "masters"
  },
  "language_info": {
   "codemirror_mode": {
    "name": "ipython",
    "version": 3
   },
   "file_extension": ".py",
   "mimetype": "text/x-python",
   "name": "python",
   "nbconvert_exporter": "python",
   "pygments_lexer": "ipython3",
   "version": "3.10.8"
  }
 },
 "nbformat": 4,
 "nbformat_minor": 5
}
