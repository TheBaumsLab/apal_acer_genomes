{
 "cells": [
  {
   "cell_type": "code",
   "execution_count": 3,
   "id": "33e0aaca",
   "metadata": {},
   "outputs": [],
   "source": [
    "!mkdir -p ../resources"
   ]
  },
  {
   "cell_type": "code",
   "execution_count": 7,
   "id": "0eb0b9e8",
   "metadata": {},
   "outputs": [],
   "source": [
    "!cp ../plink_format_maps/* ../resources"
   ]
  },
  {
   "cell_type": "code",
   "execution_count": 30,
   "id": "5eeb1524",
   "metadata": {},
   "outputs": [],
   "source": [
    "!cp ../funannotate_annotation/acer_lepwrap_annotation/predict_results/Acropora_cervicornis.scaffolds.fa ../resources/Acervicornis.fa"
   ]
  },
  {
   "cell_type": "code",
   "execution_count": 17,
   "id": "6700a78f",
   "metadata": {},
   "outputs": [],
   "source": [
    "!cp ../funannotate_annotation/acer_lepwrap_annotation/annotate_results/Acropora_cervicornis.annotations.txt ../resources/Acervicornis.annotations.txt"
   ]
  },
  {
   "cell_type": "code",
   "execution_count": 18,
   "id": "d272ba57",
   "metadata": {},
   "outputs": [],
   "source": [
    "!cp ../funannotate_annotation/acer_lepwrap_annotation/annotate_results/Acropora_cervicornis.gff3 ../resources/Acervicornis.gff3"
   ]
  },
  {
   "cell_type": "code",
   "execution_count": 48,
   "id": "e2a8cc70",
   "metadata": {},
   "outputs": [],
   "source": [
    "!cp ../acer_repeats/acer_final_softmasked/Acervicornis.repeatmask.bed \\\n",
    "    ../resources/Acervicornis.repeatmask.bed"
   ]
  },
  {
   "cell_type": "code",
   "execution_count": 1,
   "id": "78b11a50",
   "metadata": {},
   "outputs": [],
   "source": [
    "!cp ../../AP_AC_genome_seqs/dovetail_Apalm/HiC_improvement/Apalm_assembly_v3.1_200911.masked.fasta \\\n",
    "    ../resources/Apalmata.fa"
   ]
  },
  {
   "cell_type": "code",
   "execution_count": 2,
   "id": "3220ad6a",
   "metadata": {},
   "outputs": [],
   "source": [
    "!cp ../../AP_AC_genome_seqs/dovetail_Apalm/HiC_improvement/Apalm_assembly_v3.1_200911.gff3 \\\n",
    "    ../resources/Apalmata.gff3"
   ]
  },
  {
   "cell_type": "code",
   "execution_count": 25,
   "id": "6d38582c",
   "metadata": {},
   "outputs": [],
   "source": [
    "!cp ../../AP_AC_genome_seqs/dovetail_Apalm/HiC_improvement/APdov_v3.1_GeneAnnotation_combined.txt \\\n",
    "    ../resources/Apalmata.annotations.txt"
   ]
  },
  {
   "cell_type": "code",
   "execution_count": 6,
   "id": "f671974d",
   "metadata": {},
   "outputs": [],
   "source": [
    "!cp ../../AP_AC_genome_seqs/dovetail_Apalm/HiC_improvement/Apalm_assembly_v3.1_200911.repeats.bed \\\n",
    "    ../resources/Apalmata.repeatmask.bed"
   ]
  },
  {
   "cell_type": "code",
   "execution_count": 8,
   "id": "fe94e9af",
   "metadata": {},
   "outputs": [
    {
     "name": "stdout",
     "output_type": "stream",
     "text": [
      "total 766M\r\n",
      "-rw-rw-r-- 1 nsl5160 ibb3_collab  93M Jul 26 11:07 Acervicornis.annotations.proteinfer.txt.gz\r\n",
      "-rw-rw-r-- 1 nsl5160 ibb3_collab  91M Jun 17 17:54 Acervicornis.annotations.txt.gz\r\n",
      "-rw-rw-r-- 1 nsl5160 ibb3_collab  93M Jun 17 17:54 Acervicornis.fa.gz\r\n",
      "-rw-rw-r-- 1 nsl5160 ibb3_collab 5.9M Jun 17 17:54 Acervicornis.gff3.gz\r\n",
      "-rw-rw-r-- 1 nsl5160 ibb3_collab 6.4M Jun 17 17:54 Acervicornis.repeatmask.bed.gz\r\n",
      "-rw-rw-r-- 1 nsl5160 ibb3_collab 149K Jun 17 17:54 Acervicornis_FEMALE.map\r\n",
      "-rw-rw-r-- 1 nsl5160 ibb3_collab 150K Jun 17 17:54 Acervicornis_MALE.map\r\n",
      "-rw-rw-r-- 1 nsl5160 ibb3_collab 152K Jun 17 17:54 Acervicornis_SEXAVG.map\r\n",
      "-rw-rw-r-- 1 nsl5160 ibb3_collab  241 Jun 17 18:16 Acervicornis_contamination_mask.bed\r\n",
      "-rw-rw-r-- 1 nsl5160 ibb3_collab 6.5M Jul 26 11:21 Apalmata.annotations.proteinfer.txt.gz\r\n",
      "-rw-rw-r-- 1 nsl5160 ibb3_collab 3.2M Jun 17 17:54 Apalmata.annotations.txt.gz\r\n",
      "-rw-r--r-- 1 nsl5160 ibb3_collab 275M Aug 18 14:41 Apalmata.fa\r\n",
      "-rw-rw-r-- 1 nsl5160 ibb3_collab  90M Jun 17 17:54 Apalmata.fa.gz\r\n",
      "-rw-r--r-- 1 nsl5160 ibb3_collab  66M Aug 18 14:41 Apalmata.gff3\r\n",
      "-rw-rw-r-- 1 nsl5160 ibb3_collab 6.2M Jun 17 17:54 Apalmata.gff3.gz\r\n",
      "-rw-rw-r-- 1 nsl5160 ibb3_collab  27M Aug 18 14:44 Apalmata.repeatmask.bed\r\n",
      "-rw-rw-r-- 1 nsl5160 ibb3_collab 4.6M Jun 17 17:54 Apalmata.repeatmask.bed.gz\r\n",
      "-rw-rw-r-- 1 nsl5160 ibb3_collab 108K Jun 17 17:54 Apalmata_FEMALE.map\r\n",
      "-rw-rw-r-- 1 nsl5160 ibb3_collab 110K Jun 17 17:54 Apalmata_MALE.map\r\n",
      "-rw-rw-r-- 1 nsl5160 ibb3_collab 108K Jun 17 17:54 Apalmata_SEXAVG.map\r\n"
     ]
    }
   ],
   "source": [
    "!ls -lh ../resources"
   ]
  }
 ],
 "metadata": {
  "kernelspec": {
   "display_name": "Masters Env",
   "language": "python",
   "name": "masters"
  },
  "language_info": {
   "codemirror_mode": {
    "name": "ipython",
    "version": 3
   },
   "file_extension": ".py",
   "mimetype": "text/x-python",
   "name": "python",
   "nbconvert_exporter": "python",
   "pygments_lexer": "ipython3",
   "version": "3.10.8"
  }
 },
 "nbformat": 4,
 "nbformat_minor": 5
}
