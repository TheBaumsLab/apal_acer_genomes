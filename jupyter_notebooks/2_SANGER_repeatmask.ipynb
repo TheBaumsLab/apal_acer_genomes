{
 "cells": [
  {
   "cell_type": "code",
   "execution_count": 2,
   "id": "71b7b120",
   "metadata": {},
   "outputs": [],
   "source": [
    "!mkdir -p ../repeatmasked"
   ]
  },
  {
   "cell_type": "code",
   "execution_count": 4,
   "id": "e166516b",
   "metadata": {},
   "outputs": [
    {
     "name": "stdout",
     "output_type": "stream",
     "text": [
      "#!/bin/bash\n",
      "#SBATCH --nodes=1\n",
      "#SBATCH --ntasks=20\n",
      "#SBATCH --mem=300GB\n",
      "#SBATCH --time=48:00:00\n",
      "#SBATCH --job-name=repeatmasker\n",
      "\n",
      "cd ~\n",
      "source ~/.bashrc\n",
      "cd /storage/group/ibb3/default/sanger_reannotation/\n",
      "conda activate repeatmasker407\n",
      "\n",
      "RepeatMasker \\\n",
      "    -lib AP.repeatlib.fa \\\n",
      "    -engine ncbi \\\n",
      "    -parallel 20 \\\n",
      "    -gff -xsmall -s \\\n",
      "    -poly \\\n",
      "    -dir ./repeatmasked \\\n",
      "    GCA_964030605.1_jaAcrPala1.1_genomic.fa\n",
      "Submitted batch job 13855981\n"
     ]
    }
   ],
   "source": [
    "!cat ../repeatmasker.sh ; sbatch ../repeatmasker.sh"
   ]
  }
 ],
 "metadata": {
  "kernelspec": {
   "display_name": "Masters Env",
   "language": "python",
   "name": "masters"
  },
  "language_info": {
   "codemirror_mode": {
    "name": "ipython",
    "version": 3
   },
   "file_extension": ".py",
   "mimetype": "text/x-python",
   "name": "python",
   "nbconvert_exporter": "python",
   "pygments_lexer": "ipython3",
   "version": "3.10.8"
  }
 },
 "nbformat": 4,
 "nbformat_minor": 5
}
