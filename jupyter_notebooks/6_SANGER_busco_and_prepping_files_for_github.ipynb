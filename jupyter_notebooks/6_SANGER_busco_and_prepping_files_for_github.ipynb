{
 "cells": [
  {
   "cell_type": "code",
   "execution_count": 12,
   "id": "24d605a8",
   "metadata": {},
   "outputs": [],
   "source": [
    "import pandas as pd\n",
    "import numpy as np"
   ]
  },
  {
   "cell_type": "code",
   "execution_count": 1,
   "id": "9569b47d",
   "metadata": {},
   "outputs": [
    {
     "name": "stdout",
     "output_type": "stream",
     "text": [
      "2024-07-19 17:13:49 INFO:\t***** Start a BUSCO v5.4.3 analysis, current time: 07/19/2024 17:13:49 *****\n",
      "2024-07-19 17:13:49 INFO:\tConfiguring BUSCO with local environment\n",
      "2024-07-19 17:13:49 INFO:\tMode is genome\n",
      "2024-07-19 17:13:49 INFO:\tDownloading information on latest versions of BUSCO data...\n",
      "2024-07-19 17:13:52 INFO:\tInput file is /storage/group/ibb3/default/sanger_reannotation/funannotate_annotation/annotate_results/Acropora_palmata.scaffolds.fa\n",
      "2024-07-19 17:13:52 INFO:\tDownloading file 'https://busco-data.ezlab.org/v5/data/lineages/metazoa_odb10.2024-01-08.tar.gz'\n",
      "2024-07-19 17:13:57 INFO:\tDecompressing file '/storage/home/nsl5160/scratch/lineages/metazoa_odb10.tar.gz'\n",
      "2024-07-19 17:14:07 INFO:\tRunning BUSCO using lineage dataset metazoa_odb10 (eukaryota, 2024-01-08)\n",
      "2024-07-19 17:14:07 INFO:\tRunning 1 job(s) on bbtools, starting at 07/19/2024 17:14:07\n",
      "2024-07-19 17:14:11 INFO:\t[bbtools]\t1 of 1 task(s) completed\n",
      "2024-07-19 17:14:13 INFO:\tRunning 1 job(s) on metaeuk, starting at 07/19/2024 17:14:13\n",
      "2024-07-19 17:37:00 INFO:\t[metaeuk]\t1 of 1 task(s) completed\n",
      "2024-07-19 17:37:07 INFO:\t***** Run HMMER on gene sequences *****\n",
      "2024-07-19 17:37:07 INFO:\tRunning 954 job(s) on hmmsearch, starting at 07/19/2024 17:37:07\n",
      "2024-07-19 17:37:11 INFO:\t[hmmsearch]\t96 of 954 task(s) completed\n",
      "2024-07-19 17:37:14 INFO:\t[hmmsearch]\t191 of 954 task(s) completed\n",
      "2024-07-19 17:37:16 INFO:\t[hmmsearch]\t287 of 954 task(s) completed\n",
      "2024-07-19 17:37:18 INFO:\t[hmmsearch]\t382 of 954 task(s) completed\n",
      "2024-07-19 17:37:20 INFO:\t[hmmsearch]\t478 of 954 task(s) completed\n",
      "2024-07-19 17:37:21 INFO:\t[hmmsearch]\t573 of 954 task(s) completed\n",
      "2024-07-19 17:37:23 INFO:\t[hmmsearch]\t668 of 954 task(s) completed\n",
      "2024-07-19 17:37:23 INFO:\t[hmmsearch]\t668 of 954 task(s) completed\n",
      "2024-07-19 17:37:25 INFO:\t[hmmsearch]\t764 of 954 task(s) completed\n",
      "2024-07-19 17:37:26 INFO:\t[hmmsearch]\t859 of 954 task(s) completed\n",
      "2024-07-19 17:37:34 INFO:\t[hmmsearch]\t954 of 954 task(s) completed\n",
      "2024-07-19 17:37:40 INFO:\tExtracting missing and fragmented buscos from the file refseq_db.faa...\n",
      "2024-07-19 17:37:46 INFO:\tRunning 1 job(s) on metaeuk, starting at 07/19/2024 17:37:46\n",
      "2024-07-19 18:01:20 INFO:\t[metaeuk]\t1 of 1 task(s) completed\n",
      "2024-07-19 18:01:21 INFO:\t***** Run HMMER on gene sequences *****\n",
      "2024-07-19 18:01:21 INFO:\tRunning 77 job(s) on hmmsearch, starting at 07/19/2024 18:01:21\n",
      "2024-07-19 18:01:23 INFO:\t[hmmsearch]\t8 of 77 task(s) completed\n",
      "2024-07-19 18:01:23 INFO:\t[hmmsearch]\t16 of 77 task(s) completed\n",
      "2024-07-19 18:01:24 INFO:\t[hmmsearch]\t24 of 77 task(s) completed\n",
      "2024-07-19 18:01:24 INFO:\t[hmmsearch]\t31 of 77 task(s) completed\n",
      "2024-07-19 18:01:24 INFO:\t[hmmsearch]\t39 of 77 task(s) completed\n",
      "2024-07-19 18:01:24 INFO:\t[hmmsearch]\t47 of 77 task(s) completed\n",
      "2024-07-19 18:01:24 INFO:\t[hmmsearch]\t54 of 77 task(s) completed\n",
      "2024-07-19 18:01:24 INFO:\t[hmmsearch]\t62 of 77 task(s) completed\n",
      "2024-07-19 18:01:24 INFO:\t[hmmsearch]\t77 of 77 task(s) completed\n",
      "2024-07-19 18:01:24 INFO:\t[hmmsearch]\t77 of 77 task(s) completed\n",
      "2024-07-19 18:01:32 INFO:\tValidating exons and removing overlapping matches\n",
      "2024-07-19 18:01:47 INFO:\tResults:\tC:93.7%[S:93.1%,D:0.6%],F:2.9%,M:3.4%,n:954\t   \n",
      "\n",
      "2024-07-19 18:02:51 INFO:\t\n",
      "\n",
      "\t--------------------------------------------------\n",
      "\t|Results from dataset metazoa_odb10               |\n",
      "\t--------------------------------------------------\n",
      "\t|C:93.7%[S:93.1%,D:0.6%],F:2.9%,M:3.4%,n:954      |\n",
      "\t|894\tComplete BUSCOs (C)                       |\n",
      "\t|888\tComplete and single-copy BUSCOs (S)       |\n",
      "\t|6\tComplete and duplicated BUSCOs (D)        |\n",
      "\t|28\tFragmented BUSCOs (F)                     |\n",
      "\t|32\tMissing BUSCOs (M)                        |\n",
      "\t|954\tTotal BUSCO groups searched               |\n",
      "\t--------------------------------------------------\n",
      "2024-07-19 18:02:51 INFO:\tBUSCO analysis done. Total running time: 2939 seconds\n",
      "2024-07-19 18:02:51 INFO:\tResults written in /storage/group/ibb3/default/sanger_reannotation/funannotate_annotation/annotate_results/BUSCO\n",
      "2024-07-19 18:02:51 INFO:\tFor assistance with interpreting the results, please consult the userguide: https://busco.ezlab.org/busco_userguide.html\n",
      "\n",
      "2024-07-19 18:02:51 INFO:\tVisit this page https://gitlab.com/ezlab/busco#how-to-cite-busco to see how to cite BUSCO\n"
     ]
    }
   ],
   "source": [
    "%%bash\n",
    "source ~/.bashrc\n",
    "conda activate assembly\n",
    "cd /storage/group/ibb3/default/sanger_reannotation/funannotate_annotation/annotate_results/\n",
    "busco \\\n",
    "        -m genome \\\n",
    "        -c 8 \\\n",
    "        -i Acropora_palmata.scaffolds.fa \\\n",
    "        -o BUSCO \\\n",
    "        -f \\\n",
    "        -l metazoa_odb10 \\\n",
    "        --download_path ~/scratch/"
   ]
  },
  {
   "cell_type": "code",
   "execution_count": null,
   "id": "348bb5bf",
   "metadata": {},
   "outputs": [],
   "source": [
    "!cat ../linkage_map/apal_linkage.map | awk -F'\\t' -vOFS='\\t' '{ $1 = \"\" $1 \".1\" }1' \\\n",
    "    > ../funannotate_annotation/annotate_results/Acropora_palmata_corrected_headers.map"
   ]
  },
  {
   "cell_type": "code",
   "execution_count": null,
   "id": "781c4457",
   "metadata": {},
   "outputs": [],
   "source": [
    "!cat ../funannotate_annotation/annotate_results/Acropora_palmata.gff3 \\\n",
    "    | awk -F'\\t' -vOFS='\\t' '/^[^#]/ { $1 = \"\" $1 \".1\" }1' \\\n",
    "    > ../funannotate_annotation/annotate_results/Acropora_palmata_corrected_headers.gff3"
   ]
  },
  {
   "cell_type": "code",
   "execution_count": null,
   "id": "533366b0",
   "metadata": {},
   "outputs": [],
   "source": [
    "!sed '/^>/s/$/.1/' ../funannotate_annotation/annotate_results/Acropora_palmata.scaffolds.fa \\\n",
    "    > ../funannotate_annotation/annotate_results/Acropora_palmata_corrected_headers.fa"
   ]
  },
  {
   "cell_type": "code",
   "execution_count": null,
   "id": "be778464",
   "metadata": {},
   "outputs": [],
   "source": [
    "!awk -F'\\t' -vOFS='\\t' '{ $4 = \"\" $4 \".1\" }1' ../funannotate_annotation/annotate_results/Acropora_palmata.annotations_proteinfer.txt \\\n",
    "    > ../funannotate_annotation/annotate_results/Acropora_palmata_annotation_corrected_headers.txt"
   ]
  },
  {
   "cell_type": "code",
   "execution_count": null,
   "id": "e5db81dc",
   "metadata": {},
   "outputs": [],
   "source": [
    "%%bash\n",
    "source ~/.bashrc\n",
    "conda activate assembly\n",
    "gff2bed < ../repeatmasked/GCA_964030605.1_jaAcrPala1.1_genomic.fa.out.gff \\\n",
    "    > ../funannotate_annotation/annotate_results/Acropora_palmata_repeatmasked_corrected_headers.bed"
   ]
  },
  {
   "cell_type": "code",
   "execution_count": 18,
   "id": "d34c732a",
   "metadata": {},
   "outputs": [],
   "source": [
    "%%bash\n",
    "source ~/.bashrc\n",
    "conda activate assembly\n",
    "cd ../funannotate_annotation/annotate_results/\n",
    "bedtools merge -i Acropora_palmata_repeatmasked_corrected_headers.bed > bookended_repeats.bed\n",
    "paste <( cat bookended_repeats.bed ) \\\n",
    "    <( cat bookended_repeats.bed | cut -f1-2 | sed \"s/\\t/_/g\" ) \\\n",
    "    > bookended_repeats_renamed.bed\n",
    "bedtools intersect -wo -a Acropora_palmata_corrected_headers.gff3 \\\n",
    "    -b bookended_repeats_renamed.bed -bed | awk '$3~\"gene\"' \\\n",
    "    | bedtools groupby -g 1-9 -c 14 -o sum \\\n",
    "    > Acropora_palmata_tmp.gff3"
   ]
  },
  {
   "cell_type": "code",
   "execution_count": 26,
   "id": "6cda654e",
   "metadata": {},
   "outputs": [],
   "source": [
    "repeats = pd.read_csv(\"../funannotate_annotation/annotate_results/Acropora_palmata_tmp.gff3\", \n",
    "            sep = \"\\t\", header = None)\n",
    "repeats[\"repeat_overlap\"] = repeats[9] / (repeats[4] - repeats[3] + 1)"
   ]
  },
  {
   "cell_type": "code",
   "execution_count": 32,
   "id": "11a29cfe",
   "metadata": {},
   "outputs": [],
   "source": [
    "repeats[[0, 1, 2, 3, 4, 5, 6, 7, 8]][repeats[\"repeat_overlap\"] >= 0.9].to_csv(\"../funannotate_annotation/annotate_results/repeat_genes.gff3\", \n",
    "                                                 sep = \"\\t\", header = None, index = False)"
   ]
  },
  {
   "cell_type": "code",
   "execution_count": 37,
   "id": "dca1c37d",
   "metadata": {},
   "outputs": [],
   "source": [
    "%%bash\n",
    "source ~/.bashrc\n",
    "conda activate assembly\n",
    "cd ../funannotate_annotation/annotate_results/\n",
    "gff2bed < repeat_genes.gff3 | cut -f1-4 > Acropora_palmata_repeat_genes.bed"
   ]
  },
  {
   "cell_type": "code",
   "execution_count": 39,
   "id": "98e77863",
   "metadata": {},
   "outputs": [],
   "source": [
    "%%bash\n",
    "cp ../funannotate_annotation/annotate_results/Acropora_palmata_repeat_genes.bed \\\n",
    "    ../../apal_acer_genomes/sanger_references/Apalmata.repetitive_genes.bed\n",
    "cp ../funannotate_annotation/annotate_results/Acropora_palmata_corrected_headers.gff3 \\\n",
    "    ../../apal_acer_genomes/sanger_references/Apalmata.gff3\n",
    "cp ../funannotate_annotation/annotate_results/Acropora_palmata_repeatmasked_corrected_headers.bed \\\n",
    "    ../../apal_acer_genomes/sanger_references/Apalmata.repeatmask.bed\n",
    "cp ../funannotate_annotation/annotate_results/Acropora_palmata_annotation_corrected_headers.txt \\\n",
    "    ../../apal_acer_genomes/sanger_references/Apalmata.annotations.txt\n",
    "cp ../funannotate_annotation/annotate_results/Acropora_palmata_corrected_headers.fa \\\n",
    "    ../../apal_acer_genomes/sanger_references/Apalmata.fa\n",
    "cp ../funannotate_annotation/annotate_results/Acropora_palmata_corrected_headers.map \\\n",
    "    ../../apal_acer_genomes/sanger_references/Apalmata_SEXAVG.map"
   ]
  }
 ],
 "metadata": {
  "kernelspec": {
   "display_name": "Masters Env",
   "language": "python",
   "name": "masters"
  },
  "language_info": {
   "codemirror_mode": {
    "name": "ipython",
    "version": 3
   },
   "file_extension": ".py",
   "mimetype": "text/x-python",
   "name": "python",
   "nbconvert_exporter": "python",
   "pygments_lexer": "ipython3",
   "version": "3.10.8"
  }
 },
 "nbformat": 4,
 "nbformat_minor": 5
}
