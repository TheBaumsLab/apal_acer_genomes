{
 "cells": [
  {
   "cell_type": "code",
   "execution_count": 1,
   "id": "28431ad6",
   "metadata": {},
   "outputs": [],
   "source": [
    "import pandas as pd\n",
    "import numpy as np\n",
    "import seaborn as sns"
   ]
  },
  {
   "cell_type": "code",
   "execution_count": 16,
   "id": "badb4b2e",
   "metadata": {},
   "outputs": [],
   "source": [
    "!mkdir -p ../plink_format_maps"
   ]
  },
  {
   "cell_type": "code",
   "execution_count": 2,
   "id": "a961174b",
   "metadata": {},
   "outputs": [],
   "source": [
    "names = {\"Acroporapalmata\": \"Apalmata\", \"Acroporacervicornis\": \"Acervicornis\"}\n",
    "sexes = [\"MALE\", \"FEMALE\", \"SEXAVG\"]"
   ]
  },
  {
   "cell_type": "code",
   "execution_count": 3,
   "id": "ad9beb8f",
   "metadata": {},
   "outputs": [],
   "source": [
    "for spp in list(names.keys()):\n",
    "    for sex in sexes:\n",
    "        sppmap = pd.read_csv(\"../recAllRatesLoess_\" + spp + \"_\" + sex + \"_2023-12-14.txt\", sep = ' ')\n",
    "        sppmap = sppmap[sppmap[\"vld\"] == True]\n",
    "        sppmap = sppmap[[\"map\", \"mkr\", \"gen\", \"phys\"]]\n",
    "        sppmap.to_csv(\"../plink_format_maps/\" + names[spp] + \"_\" + sex + \".map\", \n",
    "                      header = None, sep = \"\\t\", index = False)"
   ]
  }
 ],
 "metadata": {
  "kernelspec": {
   "display_name": "Masters Env",
   "language": "python",
   "name": "masters"
  },
  "language_info": {
   "codemirror_mode": {
    "name": "ipython",
    "version": 3
   },
   "file_extension": ".py",
   "mimetype": "text/x-python",
   "name": "python",
   "nbconvert_exporter": "python",
   "pygments_lexer": "ipython3",
   "version": "3.10.8"
  }
 },
 "nbformat": 4,
 "nbformat_minor": 5
}
