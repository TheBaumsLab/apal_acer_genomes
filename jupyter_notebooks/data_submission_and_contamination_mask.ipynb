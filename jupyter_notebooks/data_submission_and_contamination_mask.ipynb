{
 "cells": [
  {
   "cell_type": "code",
   "execution_count": 2,
   "id": "f9c86ea7",
   "metadata": {},
   "outputs": [],
   "source": [
    "import pandas as pd\n",
    "import numpy as np"
   ]
  },
  {
   "cell_type": "markdown",
   "id": "8faa7c80",
   "metadata": {},
   "source": [
    "NCBI's genome upload system identified potential contamination stemming from alveolates (likely the symbiont). It's possible that these are legitimate host sequences (maybe by horizontal gene transfer?), but it could also be interspecies misassembly. We provide these sequences as an optional mask (not described in the paper) in case folks want to exclude these sequences (if they are symbiont-derived, they would likely not meet standard SNP QC anyway due to sequencing coverage, so probably inconsequential to leave in. They also make up only 28,951bp in total). An assembly with the contamination removed will be available at NCBI accession: JBCLVO000000000"
   ]
  },
  {
   "cell_type": "code",
   "execution_count": 3,
   "id": "a7fd9dad",
   "metadata": {},
   "outputs": [],
   "source": [
    "trim = pd.read_csv(\"../Contamination_trim.txt\", sep = \"\\t\", header = None)"
   ]
  },
  {
   "cell_type": "code",
   "execution_count": 4,
   "id": "b2b2ef9d",
   "metadata": {},
   "outputs": [],
   "source": [
    "trim[[\"start\", \"end\"]] = trim[2].str.split(\"\\.\\.\", expand = True)"
   ]
  },
  {
   "cell_type": "code",
   "execution_count": 10,
   "id": "1a0ececb",
   "metadata": {
    "scrolled": true
   },
   "outputs": [],
   "source": [
    "trim[[0, \"start\", \"end\"]].to_csv(\"../resources/Acervicornis_contamination_mask.bed\", header = None, sep = \"\\t\", index = False)"
   ]
  },
  {
   "cell_type": "code",
   "execution_count": 11,
   "id": "8f3698a7",
   "metadata": {},
   "outputs": [
    {
     "name": "stdout",
     "output_type": "stream",
     "text": [
      "LG1\t1276090\t1282450\r\n",
      "LG10\t2248413\t2250748\r\n",
      "LG2\t18355397\t18361751\r\n",
      "contig_1622\t933\t3068\r\n",
      "contig_1984\t1\t1849\r\n",
      "contig_2039\t1\t1873\r\n",
      "contig_2061\t2038\t2784\r\n",
      "contig_2392\t1\t1632\r\n",
      "contig_2488\t846\t2328\r\n",
      "contig_2504\t1\t1352\r\n"
     ]
    }
   ],
   "source": [
    "!head ../resources/Acervicornis_contamination_mask.bed"
   ]
  }
 ],
 "metadata": {
  "kernelspec": {
   "display_name": "Masters Env",
   "language": "python",
   "name": "masters"
  },
  "language_info": {
   "codemirror_mode": {
    "name": "ipython",
    "version": 3
   },
   "file_extension": ".py",
   "mimetype": "text/x-python",
   "name": "python",
   "nbconvert_exporter": "python",
   "pygments_lexer": "ipython3",
   "version": "3.10.8"
  }
 },
 "nbformat": 4,
 "nbformat_minor": 5
}
